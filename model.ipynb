{
 "cells": [
  {
   "cell_type": "markdown",
   "metadata": {},
   "source": [
    "## model and tokenizer"
   ]
  },
  {
   "cell_type": "code",
   "execution_count": 1,
   "metadata": {},
   "outputs": [
    {
     "name": "stderr",
     "output_type": "stream",
     "text": [
      "The `load_in_4bit` and `load_in_8bit` arguments are deprecated and will be removed in the future versions. Please, pass a `BitsAndBytesConfig` object in `quantization_config` argument instead.\n"
     ]
    },
    {
     "ename": "RuntimeError",
     "evalue": "No GPU found. A GPU is needed for quantization.",
     "output_type": "error",
     "traceback": [
      "\u001b[0;31m---------------------------------------------------------------------------\u001b[0m",
      "\u001b[0;31mRuntimeError\u001b[0m                              Traceback (most recent call last)",
      "Cell \u001b[0;32mIn[1], line 28\u001b[0m\n\u001b[1;32m     25\u001b[0m     tokenizer\u001b[38;5;241m.\u001b[39mbos_token_id \u001b[38;5;241m=\u001b[39m \u001b[38;5;241m1\u001b[39m\n\u001b[1;32m     26\u001b[0m     \u001b[38;5;28;01mreturn\u001b[39;00m tokenizer\n\u001b[0;32m---> 28\u001b[0m model \u001b[38;5;241m=\u001b[39m \u001b[43mload_quantized_model\u001b[49m\u001b[43m(\u001b[49m\u001b[43mmodel_name\u001b[49m\u001b[43m)\u001b[49m\n\u001b[1;32m     30\u001b[0m tokenizer \u001b[38;5;241m=\u001b[39m initialize_tokenizer(model_name)\n\u001b[1;32m     32\u001b[0m stop_token_ids \u001b[38;5;241m=\u001b[39m [\u001b[38;5;241m0\u001b[39m]\n",
      "Cell \u001b[0;32mIn[1], line 14\u001b[0m, in \u001b[0;36mload_quantized_model\u001b[0;34m(model_name)\u001b[0m\n\u001b[1;32m      6\u001b[0m \u001b[38;5;28;01mdef\u001b[39;00m \u001b[38;5;21mload_quantized_model\u001b[39m(model_name: \u001b[38;5;28mstr\u001b[39m):\n\u001b[1;32m      7\u001b[0m     bnb_config \u001b[38;5;241m=\u001b[39m BitsAndBytesConfig(\n\u001b[1;32m      8\u001b[0m         load_in_4bit\u001b[38;5;241m=\u001b[39m\u001b[38;5;28;01mTrue\u001b[39;00m,\n\u001b[1;32m      9\u001b[0m         bnb_4bit_use_double_quant\u001b[38;5;241m=\u001b[39m\u001b[38;5;28;01mTrue\u001b[39;00m,\n\u001b[1;32m     10\u001b[0m         bnb_4bit_quant_type\u001b[38;5;241m=\u001b[39m\u001b[38;5;124m\"\u001b[39m\u001b[38;5;124mnf4\u001b[39m\u001b[38;5;124m\"\u001b[39m,\n\u001b[1;32m     11\u001b[0m         bnb_4bit_compute_dtype\u001b[38;5;241m=\u001b[39mtorch\u001b[38;5;241m.\u001b[39mbfloat16\n\u001b[1;32m     12\u001b[0m     )\n\u001b[0;32m---> 14\u001b[0m     model \u001b[38;5;241m=\u001b[39m \u001b[43mAutoModelForCausalLM\u001b[49m\u001b[38;5;241;43m.\u001b[39;49m\u001b[43mfrom_pretrained\u001b[49m\u001b[43m(\u001b[49m\n\u001b[1;32m     15\u001b[0m \u001b[43m        \u001b[49m\u001b[43mmodel_name\u001b[49m\u001b[43m,\u001b[49m\n\u001b[1;32m     16\u001b[0m \u001b[43m        \u001b[49m\u001b[43mdevice_map\u001b[49m\u001b[38;5;241;43m=\u001b[39;49m\u001b[38;5;124;43m\"\u001b[39;49m\u001b[38;5;124;43mauto\u001b[39;49m\u001b[38;5;124;43m\"\u001b[39;49m\u001b[43m,\u001b[49m\n\u001b[1;32m     17\u001b[0m \u001b[43m        \u001b[49m\u001b[43mload_in_4bit\u001b[49m\u001b[38;5;241;43m=\u001b[39;49m\u001b[38;5;28;43;01mTrue\u001b[39;49;00m\u001b[43m,\u001b[49m\n\u001b[1;32m     18\u001b[0m \u001b[43m        \u001b[49m\u001b[43mtorch_dtype\u001b[49m\u001b[43m \u001b[49m\u001b[38;5;241;43m=\u001b[39;49m\u001b[43m \u001b[49m\u001b[43mtorch\u001b[49m\u001b[38;5;241;43m.\u001b[39;49m\u001b[43mbfloat16\u001b[49m\u001b[43m,\u001b[49m\n\u001b[1;32m     19\u001b[0m \u001b[43m    \u001b[49m\u001b[43m)\u001b[49m\n\u001b[1;32m     21\u001b[0m     \u001b[38;5;28;01mreturn\u001b[39;00m model\n",
      "File \u001b[0;32m~/.local/lib/python3.8/site-packages/transformers/models/auto/auto_factory.py:563\u001b[0m, in \u001b[0;36m_BaseAutoModelClass.from_pretrained\u001b[0;34m(cls, pretrained_model_name_or_path, *model_args, **kwargs)\u001b[0m\n\u001b[1;32m    561\u001b[0m \u001b[38;5;28;01melif\u001b[39;00m \u001b[38;5;28mtype\u001b[39m(config) \u001b[38;5;129;01min\u001b[39;00m \u001b[38;5;28mcls\u001b[39m\u001b[38;5;241m.\u001b[39m_model_mapping\u001b[38;5;241m.\u001b[39mkeys():\n\u001b[1;32m    562\u001b[0m     model_class \u001b[38;5;241m=\u001b[39m _get_model_class(config, \u001b[38;5;28mcls\u001b[39m\u001b[38;5;241m.\u001b[39m_model_mapping)\n\u001b[0;32m--> 563\u001b[0m     \u001b[38;5;28;01mreturn\u001b[39;00m \u001b[43mmodel_class\u001b[49m\u001b[38;5;241;43m.\u001b[39;49m\u001b[43mfrom_pretrained\u001b[49m\u001b[43m(\u001b[49m\n\u001b[1;32m    564\u001b[0m \u001b[43m        \u001b[49m\u001b[43mpretrained_model_name_or_path\u001b[49m\u001b[43m,\u001b[49m\u001b[43m \u001b[49m\u001b[38;5;241;43m*\u001b[39;49m\u001b[43mmodel_args\u001b[49m\u001b[43m,\u001b[49m\u001b[43m \u001b[49m\u001b[43mconfig\u001b[49m\u001b[38;5;241;43m=\u001b[39;49m\u001b[43mconfig\u001b[49m\u001b[43m,\u001b[49m\u001b[43m \u001b[49m\u001b[38;5;241;43m*\u001b[39;49m\u001b[38;5;241;43m*\u001b[39;49m\u001b[43mhub_kwargs\u001b[49m\u001b[43m,\u001b[49m\u001b[43m \u001b[49m\u001b[38;5;241;43m*\u001b[39;49m\u001b[38;5;241;43m*\u001b[39;49m\u001b[43mkwargs\u001b[49m\n\u001b[1;32m    565\u001b[0m \u001b[43m    \u001b[49m\u001b[43m)\u001b[49m\n\u001b[1;32m    566\u001b[0m \u001b[38;5;28;01mraise\u001b[39;00m \u001b[38;5;167;01mValueError\u001b[39;00m(\n\u001b[1;32m    567\u001b[0m     \u001b[38;5;124mf\u001b[39m\u001b[38;5;124m\"\u001b[39m\u001b[38;5;124mUnrecognized configuration class \u001b[39m\u001b[38;5;132;01m{\u001b[39;00mconfig\u001b[38;5;241m.\u001b[39m\u001b[38;5;18m__class__\u001b[39m\u001b[38;5;132;01m}\u001b[39;00m\u001b[38;5;124m for this kind of AutoModel: \u001b[39m\u001b[38;5;132;01m{\u001b[39;00m\u001b[38;5;28mcls\u001b[39m\u001b[38;5;241m.\u001b[39m\u001b[38;5;18m__name__\u001b[39m\u001b[38;5;132;01m}\u001b[39;00m\u001b[38;5;124m.\u001b[39m\u001b[38;5;130;01m\\n\u001b[39;00m\u001b[38;5;124m\"\u001b[39m\n\u001b[1;32m    568\u001b[0m     \u001b[38;5;124mf\u001b[39m\u001b[38;5;124m\"\u001b[39m\u001b[38;5;124mModel type should be one of \u001b[39m\u001b[38;5;132;01m{\u001b[39;00m\u001b[38;5;124m'\u001b[39m\u001b[38;5;124m, \u001b[39m\u001b[38;5;124m'\u001b[39m\u001b[38;5;241m.\u001b[39mjoin(c\u001b[38;5;241m.\u001b[39m\u001b[38;5;18m__name__\u001b[39m\u001b[38;5;250m \u001b[39m\u001b[38;5;28;01mfor\u001b[39;00m\u001b[38;5;250m \u001b[39mc\u001b[38;5;250m \u001b[39m\u001b[38;5;129;01min\u001b[39;00m\u001b[38;5;250m \u001b[39m\u001b[38;5;28mcls\u001b[39m\u001b[38;5;241m.\u001b[39m_model_mapping\u001b[38;5;241m.\u001b[39mkeys())\u001b[38;5;132;01m}\u001b[39;00m\u001b[38;5;124m.\u001b[39m\u001b[38;5;124m\"\u001b[39m\n\u001b[1;32m    569\u001b[0m )\n",
      "File \u001b[0;32m~/.local/lib/python3.8/site-packages/transformers/modeling_utils.py:3174\u001b[0m, in \u001b[0;36mPreTrainedModel.from_pretrained\u001b[0;34m(cls, pretrained_model_name_or_path, config, cache_dir, ignore_mismatched_sizes, force_download, local_files_only, token, revision, use_safetensors, *model_args, **kwargs)\u001b[0m\n\u001b[1;32m   3171\u001b[0m     hf_quantizer \u001b[38;5;241m=\u001b[39m \u001b[38;5;28;01mNone\u001b[39;00m\n\u001b[1;32m   3173\u001b[0m \u001b[38;5;28;01mif\u001b[39;00m hf_quantizer \u001b[38;5;129;01mis\u001b[39;00m \u001b[38;5;129;01mnot\u001b[39;00m \u001b[38;5;28;01mNone\u001b[39;00m:\n\u001b[0;32m-> 3174\u001b[0m     \u001b[43mhf_quantizer\u001b[49m\u001b[38;5;241;43m.\u001b[39;49m\u001b[43mvalidate_environment\u001b[49m\u001b[43m(\u001b[49m\n\u001b[1;32m   3175\u001b[0m \u001b[43m        \u001b[49m\u001b[43mtorch_dtype\u001b[49m\u001b[38;5;241;43m=\u001b[39;49m\u001b[43mtorch_dtype\u001b[49m\u001b[43m,\u001b[49m\u001b[43m \u001b[49m\u001b[43mfrom_tf\u001b[49m\u001b[38;5;241;43m=\u001b[39;49m\u001b[43mfrom_tf\u001b[49m\u001b[43m,\u001b[49m\u001b[43m \u001b[49m\u001b[43mfrom_flax\u001b[49m\u001b[38;5;241;43m=\u001b[39;49m\u001b[43mfrom_flax\u001b[49m\u001b[43m,\u001b[49m\u001b[43m \u001b[49m\u001b[43mdevice_map\u001b[49m\u001b[38;5;241;43m=\u001b[39;49m\u001b[43mdevice_map\u001b[49m\n\u001b[1;32m   3176\u001b[0m \u001b[43m    \u001b[49m\u001b[43m)\u001b[49m\n\u001b[1;32m   3177\u001b[0m     torch_dtype \u001b[38;5;241m=\u001b[39m hf_quantizer\u001b[38;5;241m.\u001b[39mupdate_torch_dtype(torch_dtype)\n\u001b[1;32m   3178\u001b[0m     device_map \u001b[38;5;241m=\u001b[39m hf_quantizer\u001b[38;5;241m.\u001b[39mupdate_device_map(device_map)\n",
      "File \u001b[0;32m~/.local/lib/python3.8/site-packages/transformers/quantizers/quantizer_bnb_4bit.py:62\u001b[0m, in \u001b[0;36mBnb4BitHfQuantizer.validate_environment\u001b[0;34m(self, *args, **kwargs)\u001b[0m\n\u001b[1;32m     60\u001b[0m \u001b[38;5;28;01mdef\u001b[39;00m \u001b[38;5;21mvalidate_environment\u001b[39m(\u001b[38;5;28mself\u001b[39m, \u001b[38;5;241m*\u001b[39margs, \u001b[38;5;241m*\u001b[39m\u001b[38;5;241m*\u001b[39mkwargs):\n\u001b[1;32m     61\u001b[0m     \u001b[38;5;28;01mif\u001b[39;00m \u001b[38;5;129;01mnot\u001b[39;00m torch\u001b[38;5;241m.\u001b[39mcuda\u001b[38;5;241m.\u001b[39mis_available():\n\u001b[0;32m---> 62\u001b[0m         \u001b[38;5;28;01mraise\u001b[39;00m \u001b[38;5;167;01mRuntimeError\u001b[39;00m(\u001b[38;5;124m\"\u001b[39m\u001b[38;5;124mNo GPU found. A GPU is needed for quantization.\u001b[39m\u001b[38;5;124m\"\u001b[39m)\n\u001b[1;32m     63\u001b[0m     \u001b[38;5;28;01mif\u001b[39;00m \u001b[38;5;129;01mnot\u001b[39;00m (is_accelerate_available() \u001b[38;5;129;01mand\u001b[39;00m is_bitsandbytes_available()):\n\u001b[1;32m     64\u001b[0m         \u001b[38;5;28;01mraise\u001b[39;00m \u001b[38;5;167;01mImportError\u001b[39;00m(\n\u001b[1;32m     65\u001b[0m             \u001b[38;5;124m\"\u001b[39m\u001b[38;5;124mUsing `bitsandbytes` 8-bit quantization requires Accelerate: `pip install accelerate` \u001b[39m\u001b[38;5;124m\"\u001b[39m\n\u001b[1;32m     66\u001b[0m             \u001b[38;5;124m\"\u001b[39m\u001b[38;5;124mand the latest version of bitsandbytes: `pip install -i https://pypi.org/simple/ bitsandbytes`\u001b[39m\u001b[38;5;124m\"\u001b[39m\n\u001b[1;32m     67\u001b[0m         )\n",
      "\u001b[0;31mRuntimeError\u001b[0m: No GPU found. A GPU is needed for quantization."
     ]
    }
   ],
   "source": [
    "import torch\n",
    "from transformers import AutoModelForCausalLM, AutoTokenizer, BitsAndBytesConfig\n",
    "\n",
    "model_name = \"filipealmeida/Mistral-7B-Instruct-v0.1-sharded\"\n",
    "\n",
    "def load_quantized_model(model_name: str):\n",
    "    bnb_config = BitsAndBytesConfig(\n",
    "        load_in_4bit=True,\n",
    "        bnb_4bit_use_double_quant=True,\n",
    "        bnb_4bit_quant_type=\"nf4\",\n",
    "        bnb_4bit_compute_dtype=torch.bfloat16\n",
    "    )\n",
    "\n",
    "    model = AutoModelForCausalLM.from_pretrained(\n",
    "        model_name,\n",
    "        device_map=\"auto\",\n",
    "        load_in_4bit=True,\n",
    "        torch_dtype = torch.bfloat16,\n",
    "    )\n",
    "\n",
    "    return model\n",
    "\n",
    "def initialize_tokenizer(model_name: str):\n",
    "    tokenizer = AutoTokenizer.from_pretrained(model_name)\n",
    "    tokenizer.bos_token_id = 1\n",
    "    return tokenizer\n",
    "\n",
    "model = load_quantized_model(model_name)\n",
    "\n",
    "tokenizer = initialize_tokenizer(model_name)\n",
    "\n",
    "stop_token_ids = [0]\n"
   ]
  },
  {
   "cell_type": "markdown",
   "metadata": {},
   "source": [
    "## check if working"
   ]
  },
  {
   "cell_type": "code",
   "execution_count": null,
   "metadata": {},
   "outputs": [],
   "source": [
    "##--- no run this ---##\n",
    "\n",
    "text = \"[INST]HOW WILL AI REPLACE HUMANS[/INST]\"\n",
    "\n",
    "encoded = tokenizer(text, return_tensors=\"pt\", add_special_tokens=False)\n",
    "model_input = encoded\n",
    "generate_ids = model.generate(**model_input, max_new_tokens=200, do_sample=True)\n",
    "decoded = tokenizer.batch_decode(generate_ids)\n",
    "print(decoded[0])"
   ]
  },
  {
   "cell_type": "markdown",
   "metadata": {},
   "source": [
    "## dataset load"
   ]
  },
  {
   "cell_type": "code",
   "execution_count": 3,
   "metadata": {},
   "outputs": [],
   "source": [
    "from datasets import load_dataset\n",
    "\n",
    "# Load the instruct_tune_dataset dataset\n",
    "dataset = load_dataset(\"Dobby091/koko\")\n",
    "\n"
   ]
  },
  {
   "cell_type": "code",
   "execution_count": 24,
   "metadata": {},
   "outputs": [
    {
     "name": "stdout",
     "output_type": "stream",
     "text": [
      "{'pdf_filename': '228_6.pdf', 'context': '- \\n. . . IS : 228 (Part 8)-1987 \\nIndian Standard \\nMETHODS FOR \\nCHEMICAL ANALYSIS OF STEELS \\nPART 6 DETERMINATION OF-CHROMIUM BY \\nPERSULPHATE OXIDATION METHOD \\n(FOR CHROMIUM)04 PERCENT) \\n( Third Revision ) \\nFirst Reprint JANUARY 1991 \\nUDC 669.14+669*15-194*2/*3 : 543[546*76] \\n/-• \\n’ ! \\\\ . _’ \\nQ Copyright 1987 \\nBUREAU OF INDIAN STANDARDS \\nMANAK BHAVAN, 9 BAHADUR SHAH ZAFAR MARG \\nNEW DBLHI 110002 \\nGr3 August 1987 IS I 228 ( Part 6 ) - 1987 \\n/ Indian Standard \\nMETHODS FOR \\nCHEMI-CAL ANALYSIS OF STEELS \\nPART 8 DETERMINATION OF CHROMIUM BY \\nPERSULPHATE OXIDATION METHOD \\n( FOR CHROMIUM > W PERCENT ) \\n( Third Revision ) \\nMethods of Chemical Analysis of Ferrous Metals \\nSectional Committee, SMDC 2 \\nChairman \\nDR C. S. P. IYER \\nMembers \\nSERI G. M. APPABAO Rcprcscnting \\nBhabha Atomic Research Centre, Bombay \\nSteel Authority of India Ltd (Bhilai Steel Plant ), \\nBhilai \\nSHRI R. D. A~ABWAL ( Altrmata) \\nSHRI S. V. BHAQWAT Khandelwal Ferro Alloys Ltd, Nagpur \\nSnnr D. N. GWPTA ( Altcmotc ) \\nSHRI P. CEAK~A Indian Metals & Ferro Alloys Ltd, Koraput \\nCH~XI~T & METALLWRQI~T Ministry of Transport ( Department of Railways) \\nA~SI.STA~T RESEARCH Ovrraxn \\n(MET-2) RDSO, LUOKNOW \\n( Altanais ) \\nCHIEF CHEXIST Tata Iron & Steel Co Ltd, Jamshedpur \\nASSWTANT CHIEP CHEMIST ( Altrmatc ) \\nSH~I M. K. CWAKRAVABTY Ministry of Defence (DGI) \\nSHBI P. K. SEN ( Alternate ) \\nDB M. M. CHAKRABORTY Indian Iron UC Steel Co Ltd. Burnpur \\nSHBI M. S. CXATTERJEE ( Altemats ) \\nSERI C. IL DIKSHIT Ordnance Factory Board ( Ministry of Defence ), \\nCalcutta \\nSIXXS S. N. MOITRA ( Altrmofo) \\nSEEI V. B. KEAHNA Directorate General of Supplies & Disposals, \\nNew Delhi \\nSExI J. N. MUEEERJEE Steel Authority of India Ltd (Durgapur Steel \\nPlant ), Durgapur \\n( con#nued 0” @l## 2 ) \\nQ Cqyrighht 1987 \\nBUREAU OF INDIAN STANDARDS \\n‘Fbia publication is protected under the Indian Copyright Act ( XIV of l957 ) and \\nqproduction in whole or in part by any means except with written permission of the \\npub&box &all be deemed to be an infringement of copyright under the said Act. IS : 228 ( Part 6 ) - 1987 \\n( Continued from page 1 ) \\nMembrrs Rqhessntiq \\nSERI P. NARAIN Mahindra Ugine Steel Co Ltd, Bombay \\nSHRIG. R. SARMA ( Alfrrnofs) \\nSHRI N. P. PANDA Steel Authority of India Ltd (Rourkela Steel \\nPlant ), Rourkela \\nSHWI B. MAHAPATBA ( Ahrnutr ) \\nDK L. P. PANDEY National Metatluraical Laboratory ( CSIR 1. \\nDR D. C. PRASHAR \\nSHRI J. RAI ( Altcrnae ) \\nSHBI G. RAJARAO \\nSERI K. RAMAKSWXXNAN \\nDR J. RAJABAX (Altan&) \\nSHRI A.P. SINHA \\nSHRI K. ANNIAH ( Ahrnotr ) \\nSHRI N. V. SVBBARAYAPFA \\nDEP. SUBRAHMANIAM \\nSEBI T. H. RAO ( Affrrn& ) \\nDa CR. VENKAT~WARLU \\nSH~I K. RAOEAVENDRAN, \\nDirector ( Strut & Met ) N t.Jayh*pur - a Physical \\nNew Qelhi Laboratory (CSIR), ; * \\nFerro Alloys Corporation Ltd, Shresramnagar \\nEnen & Co, Bangalore \\nSteel Authority of India Ltd (Bokaro Steel \\nPlant ), Bokaro \\nVisvervaraya Iron & Steel Ltd, Bltadravati \\nDefence Metallurgical Research Laboratory, \\nHyderabad \\nBhabha Atomic Research Centre, Bombay \\nDirector General, BIS ( Ex-o&i0 M&u) \\nSHRX h’f. L. %lARYA \\nAssistant Director ( Metals ), BIS \\nFerrous Metals Analysis.@bcommittee, SMDC 2 : 3 \\nc onocnrr \\nDR C. S. P. IYER Bhabha Atomic Research Centre, Bombay \\nMtimbcrs \\nSERI S. BASKARAN \\nSHRI MATA~SARAN ( Allcrnalr I ) Bharat Heavy Electrical1 Ltd, Hyderabad ? \\nSRRX B. RAHA ( Allernak. II ) _ \\nSHRI U. P. BOSE Steel Authority of India Ltd ( Bhilai Steel Plant ), \\nBhilai \\nSERI E. M. Vmoansa ( Altrrnotr ) \\nCHIEB CEEHIST Tata Iron -6 Steel Co Ltd, Jamrhedpur \\nAIWISTANT CEIE~ CHIWIST ( Altrrnotr ) \\nDRM.M. CEAXBABORTY Indian Iron & Steel Co Ltd, Burnpur \\nSHRI L. N. DAS ( Altrrnoh ) \\nSHRI H. K. DAE Steel Authority of India Ltd ( Rourkela Steel \\nPlant ), Rourkela \\nSERI K. BIS~NOI ( Altsrrak) \\nSHEI -4. X. GVPTA National Phydcal Laboratory ( CSIR ), \\n-New Delhi \\n( Conrinwd on pa# 9 ) \\n2 IS:228(Pw6)-iW7 \\nIndian Standard \\nMETHODS FOR \\nCHEMICAL ANALYSIS OF STEELS \\nPART 8 DETERMINATION OF CHROMIUM BY \\nPERSULPHATE OXIDATION METHOD \\n(FOR CHROMCUM > 0’1 PERCENT ) \\n( Third Revision ) \\n0. FOREWORD \\n0.1 This Indian Standard ( Part 6 ) ( Third Revision ) was adopted by \\nthe Indian Standards Institution on 16 January 1987, after thedraft \\nfinalized by the Methods of Chemical Analysis of Ferrous Metals \\nSectional Committee Chad been approved by the Structural and \\nMetals Division Council. \\n0.2 IS : 228 which was issued -as a tentative standard in 1952 and \\nrevised in 1959, covered the chemical analysis of pig iron, cast iron \\nand plain carbon and low alloy steels. For convenience, it was decided \\nto publish a comprehensive series on chemical analysis of steels \\nincluding high alloy steels. Accordingly, revision of IS : 228 was \\ntaken-up again and new series on methods of chemical analysis of \\nsteels including high alloy steels was published in various parts as \\nIS : 228 ( Parts 1 to 13 ) ( see Appendix A ) covering separate method \\nof analysis for each constituent in steels. However, IS : 228-1959* \\nversion has been retained for the analysis of pig iron and cast iron \\ntill a separate standard for analysis of pig iron and cast iron is \\npublished. \\n0.2.1 This revision of IS : 228 (Part 6 )-1974t has been undertaken \\non the basis of experience gained during the implementation of the \\nstandard by the manufacturers and testing laboratories. \\n0.3 In this revision, major modifications are: \\na) scope of the method has been modified by lowering the limit \\nfor determination of chromium from 0’5 to 0’1 percent; \\n-. \\n*Methodr of chemical analysis of pig iron, cast iron and plain carbon and low alloy \\nrteelr ( &sad). \\n*Methods for chemical analyak of steels: Part 6 Determination of chromium by \\npcrsulphate oxidation method ( for chromium > 0’5 percent ) ( sacond rcuirion). \\n3 IS : 228 ( Part 6 ) - 1987 \\nb) only one method has been prescribed for the correction in the \\ntitration of chromium for dilution effect and colour \\ninterference; and \\nc) inclusion of reproducibility of the method at the ,various levels \\nof chromium content, \\n0.4 In reporting the result of a test or analysis made in accordance \\nwith this standard, if the final value, observed or calculated, is to be \\nrounded off, it shall be done in accordance with IS : Z-1960*. \\n1. SCOPE \\n1.1 This standard ( Part 6) covers the persulphate oxidation method \\nfor determination of chromium content of low alloy and high alloy \\nsteels containing more than or equal to 0’1 percent chromium. This \\nmethod is not applicable for steels containing tungsten. \\n2. SAMPLING \\n2.1 The samples shall be drawn and prepared as prescribed in the \\nrelevant Indian Standard. \\n3. QUALITY OF REAGENTS \\n3.1 Unless specified otherwise, analytical grade reagents and distilled \\nwater ( see IS : 1070-1977t ) shall be employed in the test. \\n4. OUTLINE OF THE METHOD \\n4.1 After d;ssolution of the sample in dilute sulphuric acid and pho- \\nsphoric acid mixture and further treated with nitric acid, chromi,nm, \\nmanganese and ( vanadium if present) are oxidized by ammomum \\npersulphate in presence of silver nitrate as catalyst. Permanganic acid \\nis then destroyed by dilute hydrochloric acid. Chromium is reduced by \\nferrous ammonium sulphate and excess of ferrous ammonium sulphate \\nis back titrated with standard potassium permanganate solution. \\n5. REAGENTS \\n5.1 Phosphoric Acid - Sulphuric Acid Mixture -To 600 ml of \\nWater, add continuously 165 ml of concentrated sulphui-ic acid \\nirP,t;tLy,lt;,nd 132 ml of phosphoric acid ( rd = 1’75 ). Mix, cool and \\n1 \\n*Rulea for rounding off numerical values ( rcmkd ). \\ntSpecification for water for general laboratory use (-second revision ). \\n4 IS z 228 ( Part 6 ) - 1987 \\n5.2 Concentrated Nitric Acid - Relative density = 1’42 (conform- \\ning to IS : 264-1976* ). \\n5.3 Silver Nitrate Solution- 0’5 percent (m/v). Dissolve 5 g of \\nsilver nitrate crystals in water and diluteto 1 litre. \\n5.4 Ammonium Persulphate Solution - Dissolve 15 g of \\nammonium persulphate in 100 ml of water. Use a freshiy prepared \\nsolution. \\n5.5 Potassium Permanganate Solution - 1 percent ( m/v ). \\n5.6 Dilwte Hydrochloric Acid - 1 : 3 (ZJ/II). Dilute 250 ml of \\nconcentrated hydrochloric acid (rd = 1’16 j to 1 litre. \\n5.7 Standard Ferrous Ammonium Sulphate Solution - \\nApproximately 0’1 N. Dissolve 40 g of ferrous ammonium sulphate in \\nsulphuric acid ( 5 percent) and dilute to 1 litre. Filter, if necessary, \\nand keep in a stoppered glass bottle. Standardize against standard- \\npotassium permanganate solution ( given under 5.8) every time it is \\nused. \\n5.8 Standard Potassium Permanganate Solution - Approxi- \\nmately 0’1 N. Dissolve 3.2 g of potassium permanganate crystals \\nin 1 000 ml of water, stir and allow to stind in a closed vessel for \\n24 hours. Filter, through a sintered glass crucible and keep in an \\namber-coloured glass bottle. Standardize the solution as follows: \\nDissolve 9’134 g of sodium oxalate crystals, dried for 1 hour \\nat 105°C in 200 ml of dilute sulphuric acid (1 : 50). Heat to 70°C \\nand titrate with potassium permanganate solution until one drop \\nproduces a permanent pink colouration. [ 1 ml of potassium \\npermanganate solution (0’1 N) = 0’006 7 g of sodium oxalate 1. \\n6. PROCEDURE \\n6.1 Take 2 g of sample (for chromium less than 2 percent) \\nand 0’2 to 0’5 g of sample for high alloy steels in a wide mouth conical \\nflask. Add 50 ml of phosphoric acid-sulphuric acid mixture. Heat \\nthe flask to decompose the sample. Oxidize black residue by addition \\nof concentrated nitric acid dropwise and heating the solution \\nsimultaneously till all carbides are decomposed and brown fumes are \\nexpelled. Dilute to 300 ml with hot water. \\n*Specification for nitric acid (second retision ), IS t 228 ( Part 6 ) - 1987 \\n6.2 Add a few pieces of glass beads, heat the solution to boiling \\nand add 20 ml of silver nitrate solution and 20 ml of ammonium \\npersulphate solution adding little at a time and continue boiling till \\nthe permanganate colour develops fully (volume should be maintained \\nat 300 ml by addition of hot water, if necessary and also boiling should \\nbe a period of 8-10 minutes). It should be ensured that sufficient \\npersulphate is added. Wash the sides of the conical flask with water. \\nIf the colour does not develop add a few drops of potassium \\npermanganate solution till the pink colour develops. \\n6.3 Add dilute hydrochloric acid dropwise to the boiling solution till \\npermanganic acid colour is destroyed. Boil for 10 minutes more. Cool \\nand add a known volume of standard ferrous ammonium sulphate \\nsolution until an excess of at least 5 ml is present. Titrate back with \\ndropwise addition of standard potassium permanganate solution to a \\npermanent pink end point which persists for 30-40 seconds. \\n6.4 In presence of vanadium, titrate carefully to a pmk ends point \\nwhich persists for at least. 30 to 40 seconds, to ensure complete \\nre-oxidation of the vanadium. \\n6.5 The titration should be corrected for dilution effect and colour \\ninterference. The correction may be made by the following method: \\n6.5.1 Add same amount of ferrous ammonium sulphate as used for \\nthe sample, to the already titrated solution. Titrate with standard \\npotassium permanganate to pink end point which lasts for 30 to 40 \\nseconds. \\n7. CALCULATION \\n7.1 Calculate the chromium content of the steel as follows: \\nChromium, percent = (AB - C) D x 0’017 33 x 100 \\nE \\nwhere \\nA = volume in ml of standard ferrous ammonium sulphate \\nsolution added, \\nB = volume in ml of standard potassium permanganate \\nsolution equivalent to 1 ml of ferrous ammonium \\nsulphate solution, \\nc = volume in ml of standard potassium permanganate \\nsolution required for titration, corrected for the blank, \\n6 18:2ZS(Part6)-1987 \\nD = normality of standard potassium permanganate \\nsolution, and \\nE = mass in g of the sample taken for the test. \\n7.2 Reproducibility \\na) f0’025 percent at 0’1 to 0’5 percent chromium, \\nb) f0’036 percent at 0’5 to 1 percent chromium, \\nc) fO’l20 percent at 1 to 5 percent chromium, and \\nd) ~fO’20 percent for chromium 5 percent and above. \\nAPPENDIX A \\n( Clause 0.2 ) \\nINDIAN STANDARDS ON METIIODS FOR CHEMICAL \\nANALYSIS OF STEELS \\nIS : 228 Methods for chemical analysis of steels: \\n(Part 1 )-1972 Determination of carbon by volumetric method \\n( for carbon > 0’ 1 percent ) ( second rev&ion ) \\n( Part 2 )A987 D e ermination t of manganese in plain carbon and \\nlow alloy steels by arsenite method ( thid revision > \\n(Part 3 )-1987 Determination of phosphorus by alkalimetric \\nmethod ( third revision ) \\n( Part 4)-1987 Determination of carbon by gravimetric method \\n( for carbon > 0‘1 percent ) ( third revision ) \\n( Part 5 )-1987 Determination of nickel by dimethyl lyoxime \\n( gravimetric ) method ( for nickel > 0’ 1 percent \\nrevision ) 3 (second \\n( Part 6 )-1987 Determination of chromium by persulphate \\noxidation method ( for chromium > 0’1 percent ) (third \\nrevision ) \\n( Part 7 )-1974 Determination of molybdenum by a-benzoinoxime \\nmethod ( for molybdenum > 1 percent ) (second revision) \\n7 IS:228(Part6)-1987 \\n( Part 8 )-1975 Determination of silicon by the gravimetric method \\n( for silicon > 0’1 percent ) ( second revision ) \\n( Part 9)-1975 Determination of sulphur ,in plain carbon steels by \\nevolution method (second revision ) \\n( Part 10 )-1976 Determination of molybdenum by thiocyanate \\n(photometric) method ( for molybdenum up to 1 percent ) \\nin low and high alloy steels ( second revision ) \\n( Part 11 )-1976 Determination of silicon by photometric method in \\ncarbon steels and low alloy steels (for silicon 0’01 to \\n0’05 percent ) ( second revision ) \\n( Part 12 )-1976 Determination of manganese by periodate \\n( photometric ) method in low and high alloy steels ( for \\nmanganese up to 2 percent ) ( second revision ) \\n(Part 13)-1982 Determination of arsenic \\n8 IS : 228 ( Part 6 ) - 1987 \\n( Continuedfrom page 2 ) \\nMnnbcrs \\nSH~I J. MUXHERJEE Represanting \\nSteel Authority of India Ltd (Durgapur Steel \\nPlant ), Durgapur \\nSaxr P. K. BANERJEE (Altarnate ) \\nSoar P. NARAIN Mahindra Ugine Steel Co Ltd, Bombay \\nSHRI G. R. SARMA ( AItrrnats ) \\n1 Saab R. S. NATH Steel Authority of India Ltd (Bokaro Steel \\nPlant ), Bokaro \\nSHRI N. GUNDAPEA ( Altnnatc ) \\nDR L. P. PANDEY National Metallurgical Laboratory ( CSIR ), \\nJamshedpur \\nSxsx G. RAMDA~ b SHRI R. D. VANDRIWALLA Visvesvaraya Iron & Steel Ltd, Bhadravati \\nItalab Pvt Ltd, Bombay \\nSHRI J. C. DEY ( Altcmarc) \\n9 BUREAU OF INDIAN STANDARDS \\nHeadquarters : \\nManak Bhavan. 9 Bahadur Shah Zafar Marg. NEW DELHI 110002 \\nTelephones : 331 01 31 Telegrams : Manaksanstha \\n331 13 75 (Common to all Offices) \\nRegional Offices : \\nCentral : Manak Bhavan, 9, Bahadur Shah Zafar Marg, \\nNEW DELHI 110002 \\n* Eastern t l/l4 C.I.T. Scheme VII M, \\nV.I.P. Road, Maniktola, CALCUTTA 700054 \\nNorthern : SC0 445-446, Sector 35-C, CHANDIGARH 160036 \\nSouthern \\nt Western : C.I.T. Campus, IV Cross Road, MADRAS 600113 \\n: Manakalaya, E9 MIDC, Marol, Andheri (East), \\nBOMBAY 400093 \\nBranch Offices : \\n‘Pushpak’, Nurmohamed Shaikh Marg, Khanpur, AHMADABAD 380001 \\n$ Peenya Industrial Area, 1st Stage, Bangalore-Tumkur Road, \\nBANGALORE 560058 \\nGangotri Complex, 5th Floor, Bhadbhada Road, T.T. Nagar, \\nBHOPAL 462003 \\nPlot No. 82/83, Lewis Road, BHUBANESHWAR 751002 \\nKalai Kathir Building, 6/48-A Avanasi Road, COIMBATORE 641037 \\nQuality Marking Centre, N.H. IV, N,I.T., FARIDABAD 121001 \\nSavitri Complex, I-16 G. T. Road, GHAZIABAD 201001 \\n5315 Ward No. 29, R.G. Barua Road, 5th By-lane, \\nGUWAHATI 781003 \\n5-8-56C L. N. Gupta Marg, (Nampally Station Road ) \\nHYDERABAD 500001 \\nRI4 Yudhister Marg, C Scheme, JAIPUR 302005 \\n117/418 B Sarvodaya Nagar, KANPUR 208005 \\nPlot No. A-9, House No. 561/63, Sindhu Nagar, Kanpur Road. \\nLUCKNOW 226005 \\nPatliputra Industrial Estate, PATNA 800013 \\nDistrict Industries Centre Complex, Bagh-e-Ali Maidan. \\nSRINAGAR 190011 \\nT. C. No. 14/1421, University P. 0.. Palayam, \\nTHIRUVANANTHAPURAM 695034 \\ninspection Offices (With Sale Point) : \\nPushpanjali. First Floor, 205-A West High Court Road. \\nShankar Nagar Square, NAGPUR 440010 \\nInstitution of Engineers (India) Building, 1332 Shivaji Nagar. \\nPUNE 411005 -_ \\n*Sales Office Calcutta is at 5 Chowringhee Approach, \\nP. 0. Princep Street, CALCUTTA \\nt Sales Office is at Novelty Chambers, Grant Road, BOMBAY \\n$ Sales Office is at Unity Building, Narasimharaja Square, \\nBANGALORE Telephone \\ni 331 01 31 \\n331 13 75 \\n37 86 62 \\n21843 \\n41 29 16 \\n6 32 92 95 \\n2 63 48 \\n39 49 55 \\n55 40 21 \\n5 36 27 , \\n2 67 05 \\n8-71 1; 96 \\n3 31 77 \\n231083 \\n6 34 71 \\n21 68 76 \\n5 5507 \\n6 23 05 \\n- \\n6 21 04 \\n52 51 71 \\n52435 \\n27 68 00 \\n89 65 28 \\n22 39 71 \\nPrinted at Dee Kay Printers, New Delhi, India \\nI \\ni ', 'question': 'What is the reproducibility range for chromium content at 1 to 5 percent?', 'answer': 'Reproducibility is ±0.120 percent.'}\n"
     ]
    }
   ],
   "source": [
    "print(dataset[\"test\"][0])"
   ]
  },
  {
   "cell_type": "markdown",
   "metadata": {},
   "source": [
    "## select the trainables"
   ]
  },
  {
   "cell_type": "markdown",
   "metadata": {},
   "source": [
    "### not for now"
   ]
  },
  {
   "cell_type": "code",
   "execution_count": 26,
   "metadata": {},
   "outputs": [
    {
     "name": "stdout",
     "output_type": "stream",
     "text": [
      "Number of train samples: 15\n",
      "Number of test samples: 2\n"
     ]
    },
    {
     "data": {
      "text/plain": [
       "DatasetDict({\n",
       "    train: Dataset({\n",
       "        features: ['pdf_filename', 'context', 'question', 'answer'],\n",
       "        num_rows: 15\n",
       "    })\n",
       "    test: Dataset({\n",
       "        features: ['pdf_filename', 'context', 'question', 'answer'],\n",
       "        num_rows: 2\n",
       "    })\n",
       "})"
      ]
     },
     "execution_count": 26,
     "metadata": {},
     "output_type": "execute_result"
    }
   ],
   "source": [
    "from datasets import Dataset, DatasetDict\n",
    "\n",
    "# Select the first 1000 samples in the train set and the first 200 samples in the test set\n",
    "train_dataset = dataset['train'].select(range(15))\n",
    "test_dataset = dataset['test'].select(range(2))\n",
    "\n",
    "# Create a new `DatasetDict` to store the selected samples\n",
    "selected_dataset_dict = DatasetDict({'train': train_dataset, 'test': test_dataset})\n",
    "\n",
    "# Print the number of samples in each split\n",
    "print(f\"Number of train samples: {len(train_dataset)}\")\n",
    "print(f\"Number of test samples: {len(test_dataset)}\")\n",
    "\n",
    "selected_dataset_dict"
   ]
  },
  {
   "cell_type": "markdown",
   "metadata": {},
   "source": [
    "## create prompt"
   ]
  },
  {
   "cell_type": "code",
   "execution_count": 5,
   "metadata": {},
   "outputs": [],
   "source": [
    "def create_prompt(sample):\n",
    "    bos_token = \"<s>\"\n",
    "    base_prompt1 = \"below context is from \"\n",
    "    base_prompt2 = \", answer the folwing questions based on the context given \\n\"\n",
    "    document = sample['pdf_filename']\n",
    "    context = sample['context']\n",
    "    answer = sample['answer']\n",
    "    question = sample['question']\n",
    "    eos_token = \"</s>\"\n",
    "    full_prompt = \"\"\n",
    "    full_prompt += bos_token\n",
    "    full_prompt += \"###Instruction:\\n\"\n",
    "    full_prompt += base_prompt1\n",
    "    full_prompt += document\n",
    "    full_prompt += base_prompt2\n",
    "    full_prompt += \"\\n\\n###context:\\n\" + context\n",
    "    full_prompt += \"\\n\\n###question:\\n\" + question\n",
    "    full_prompt += \"\\n\\n###answer:\\n\" + answer\n",
    "    full_prompt += eos_token\n",
    "    print(\"------------------\")\n",
    "    print(full_prompt)\n",
    "    print(\"------------------\")\n",
    "    return full_prompt"
   ]
  },
  {
   "cell_type": "code",
   "execution_count": 6,
   "metadata": {},
   "outputs": [
    {
     "name": "stdout",
     "output_type": "stream",
     "text": [
      "------------------\n",
      "<s>###Instruction:\n",
      "below context is from 228_4.pdf, answer the folwing questions based on the context given \n",
      "\n",
      "\n",
      "###context:\n",
      "IS:228(Part4)-1987 \n",
      "( ReaIhncd 1997 ) \n",
      "Indian Standard \n",
      "METHOD FOR \n",
      "CHEMICAL ANALYSIS OF STEELS \n",
      "PART 4 DETERMINATION OF TOTAL CARBON \n",
      "BY GRAVIMETRIC METHOD \n",
      "( FOR CARBON r 0.1 PERCENT) \n",
      "( Third Revision ) \n",
      "I;wflh Reprint NOVEMBER 1998 \n",
      "UDC 669.14 + 669.15-194.2/.3 : 543.21 [546.26] \n",
      "BUREAU OF INDIAN STANDARDS \n",
      "MANAK BHAVAN, 9 BAHADUR SHAH ZAFAR MARG \n",
      "NEW DELHI 110002 \n",
      "Gr 2 Aqirst 1987 IS:228(Part4)-1987 \n",
      "Indian Standard \n",
      "METHODS FOR \n",
      "CHEMICAL ANALYSIS OF STEELS \n",
      "PART 4 DETERMINATION OF TOTAL CARBON \n",
      "BY GRAVIMETRIC METHOD \n",
      "(FOR CARBON > O-1 PERCENT) \n",
      "( Third Revision ) \n",
      "Methods of Chemical Analysis of Ferrous Metals \n",
      "Sectional Committee, SlMDC 2 \n",
      "Chuiman Rqmsmting \n",
      "DR C. S. P. IYLR Bhabha Atomic Research Centre, Bombay \n",
      "Mcmbnr \n",
      "SHKI G. M. APPAUAO Steel Authority of India Ltd ( Bhilai Steel Plant ), \n",
      "Bhilai \n",
      "SIIBX R. D. AOAIIWAL ( AllmW) \n",
      "SHEI S. V. BHAOW~Y Khandelwnl Ferro Alloy1 Ltd, Nagpur \n",
      "Sanr D. N. GUPTA ( Aflernnlc ) \n",
      "SEttIP. CHAKRA Indian Metals & Ferro Alloys Ltd, Koraput \n",
      "CREYWT& METALLVIWUST \n",
      "AINXVTANT RESEARCH OIFIC~~R Ministry of Transport ( Department of Railways) \n",
      "(MET-2) RDSO, Luclixow \n",
      "( Allrmdr ) \n",
      "CHIEW CIIEM~ST Tata Iron 8; Steel Co Ltd, Jamshedpur \n",
      "AWXSTANT CHIEF CHRMMT ( Allnnat~ ) \n",
      "SIiItI M. K. CEAtiRAVARTY Ministry of Defence (DGI) \n",
      "Snug P. K. SEN ( Altrrnotr ) \n",
      "DR M. M. CEAKRABO~TY Indian Iron & Steel Co Ltd, Burnpur \n",
      "SERB M. S. CEATTERJEE ( Altrrnotr ) \n",
      "SERI C. K. D~KOH~T Ordnance Factory Board ( Ministry of Defence ), \n",
      "Calcutta \n",
      "SARI S. N. MOITRA ( Abn~tr ) \n",
      "SaRI V.B. KIXANXA Directorate General of Supplies & Disposals, \n",
      "New Delhi \n",
      "SHR~ J. N. MUIWERJEE Steel Authority of India Ltd (Durgapur Steel \n",
      "Plant ). Durgapur \n",
      "( Cen8inurd 8n porr 2 ) \n",
      "0 whr 1987 \n",
      "BUREAU OF INDIAN STANDARDS \n",
      "This publication is protected -under the Itin clrprighl Act ( XIV of 1957 ) and \n",
      "rrproduction in whole or in part by any means except with written permission of the \n",
      "publisher shall be deemed to be an infringement of copyright under the said Act. IS:228(Part4)-1987 \n",
      "Mcmbm Rtpcmting \n",
      "SHRI P. NABAIN \n",
      "SHRI G. R. Saalar ( Altnncfc) Mabindra Ugine Steel Co Ltd. Bombay \n",
      "SHBI N. P. PANDA Steel Autbority of India Ltd (Rourkela Steel \n",
      "Plant ), Rourkela \n",
      "SIIIU B. MAIIAPATRA ( Aftn~h ) \n",
      "Da L. P. PANDEY National Metallurgical Laboratory ( CSIR ), \n",
      "DR D. C. PRASHAR - N p;h-J~r a Pbvsical Laboratorv (CSIR ). \n",
      "New Delhi’ , . I. \n",
      "SHBI J. RAI ( Al~rraa~ ) \n",
      "Saat G. RAJARAO \n",
      "SHRI K. RAMAKBIIHIAN \n",
      "Da J. RAJARAY ( Allma& ) \n",
      "SBRI A. P. !hNEA Ferro Alloys Cornoration Ltd. Shreeramaagar \n",
      "Eurn & Co, Batgalore . \n",
      "Steel Authority of India Ltd ( Bokaro Steel \n",
      "Plant ), Bokaro \n",
      "SHRI N. V. SUEIBAIIA~APPA ’ Vivervnraya Iron 8t Steel Ltd. Bbadravati \n",
      "DB P. S~JBBAHYANIAY Dcfence Metallurgical Rewarcb Laboratory, \n",
      "Hvderabad \n",
      "SHBI T. H. RAO (Al&m& ) , \n",
      "DE CR. VENKATLBWARLU Bhabha Atomic Research Centre, Bombay \n",
      "SABI K. RAOHAVENDBAN, Director General, BIS ( Ex-oficio Member) \n",
      "Director ( Strut St Met ) \n",
      "Slcrrlary \n",
      "SFIBI M. L. SHARJ~A \n",
      "Assirtant Director ( Metalr ), BIS \n",
      "Ferrpus Metals Analysis Subcommittee, SMDC 2 : 3 \n",
      "cono#mr \n",
      "Ds C. 9. P. IYBR \n",
      "hitathrr \n",
      "SHRI S. BASKABAN Bhabha Atomic Research Centre, Bombay \n",
      "SHBI MATA SARAN ( A&m& I ) Bharat Heavy Electricalr Ltd, Hjderahad \n",
      "SHRI B. RAEA (Alternate II ) \n",
      "!&RI U.P.bJB Steel Authority of India Ltd ( Bhilai Steel Plant ), \n",
      "Bbilai \n",
      "SIiRI E. M. VERQHEtlE ( Altmatr ) \n",
      "CHlElP CEEMIRT Tata Iron & Steel Co Ltd. Iamrhednur \n",
      "AIWSTANT CIIIBP CEBYIST ( A&m& ) . \n",
      "DB M. M. CHAKBABORTT Indian Iron & Steel Co Ltd. Burnpur \n",
      "SHRI L. N. Dbs ( Altmmtr ) \n",
      "SEBI H. K. DAE Steel Authority of India Ltd ( hourkela Steel \n",
      "Plant ), Rourkela \n",
      "SHRI K. Bmaror ( Aitrrnats ) \n",
      "SHBI A. K. GIJPTA National Physical \n",
      "New Delhi Labor&y ( C8IR ), \n",
      "( Cetttirurd on pap 8 ) \n",
      "2 IS : ‘228 ( Part 4 ) - 1987 \n",
      "Indian Standard \n",
      "METHODS FOR \n",
      "CHEMICAL ANALYSIS OF STEELS \n",
      "PART 4 DETERYlNATlON OF TOTAL CARBON \n",
      "BY GARVIMETRIC METHOD \n",
      "(FOR CARBON > O-1 PERCENT ) \n",
      "( Third Revision ) \n",
      "0. FOREWORD \n",
      "0.1 This Indian Standard ( Part 4 ) (Third R cvision ) was adopted I)y \n",
      "the Indian Standards Institution on 16 January 1987, afirr the draft \n",
      "finalized by the Methods of Chemical Analysis of Pcrrous Metals \n",
      "Sectional Committre had been approved by the Structural and Mct;~ls \n",
      "Division Council. \n",
      "0.2 IS : 228, which was issued as a tentative standard in 1952 and \n",
      "revised in 1959, covered the chemical analysis of pig iron, cast iron and \n",
      "plain carbon and low alloy steels. For the convenience it was decidctl \n",
      "to publish a comprehensive series on chemical analysis of steels \n",
      "including high alloy steels. Accordingly, revision of IS : 228 was \n",
      "taken-up again and new series on method of chemical analysis of \n",
      "steels including high alloy steels was published in various parts as \n",
      "IS : 228 ( Parts 1 to 13 ) ( see Appendix A ) covering separate method \n",
      "of analysis for each constituent in steels. However, IS : 228-195!)* \n",
      "version has been rctainc tl for the analysis of pig iron and cast iron till \n",
      "a separate standard for analysis of pig iron and cast iron is phlishctl. \n",
      "0.2.1 This revision of IS : 228 (Part 4)-19747 has been undcrtnkcn \n",
      "on the basis of experience gained during the implementation of \\he \n",
      "standard by the manufacturers and testing laboratories. \n",
      "0.3 In this revision, method has been updated. \n",
      "*Methods of chemical analysis of pig iron, cast won and plain carb’on and low \n",
      "alloy 1teela [ rruiud )* \n",
      "tMethod1 for chemical analysis of steels: Part 4 Determination of carbon by \n",
      "gravimetric method ( for carbon > 0.1 percent ) (rend rmi~ion ). \n",
      "3 IS : 228 ( Part 4 ) - 1987 \n",
      "8.4 In rr,porting 111~ reslllt of a test or analysis made in accordance \n",
      "r\\.itIl tItis 51 ;~ntlartl, if the final value, ohservcd or calculated, is to be \n",
      "I r)~~trcIt~tI 011; it >11;111 Iw clone in accordance with IS : 2-1960*. \n",
      "1. SCOPE \n",
      "1.1 This standard (Part 4) covers the method for determination of \n",
      "total carljon content of plain carbon, low alloy and high alloy steels \n",
      "nfO.1 pcrccnt and above by the grnvimctric method. \n",
      "2. OUTLINE OF THE METHOD \n",
      "2.1 The sample is burnt in a stream of purified oxygen and the \n",
      "carhnn dioxide formctl is al~wrlwtl, after purihation, in suitable \n",
      "ahorhant and tlc~tcrminc~cl. \n",
      "3. REAGENTS \n",
      "3.1 Oxygen (On) - 90’5 percent minimum. \n",
      "3.2 Accarite or Soda Lime -- 0’80 to 2’00 mm. \n",
      "3.3 Magnesium Perchlorate - Mg (CIO( )2, 0.80 to 2’00 mm. \n",
      "3.4 Boat/Crucible - Boat/crucible of precise dimension for \n",
      "accommodating in the r&stance and induction furnace. \n",
      "3.4.1 Preignitc the boats/crucibles in air or oxygen in a furnace for \n",
      "an hour at 1 100°C and stnrc in a desiccator and check for consistancy \n",
      "of the blank values. \n",
      "3.5 Flux,‘Accelerator - Low carbon copper, red lead ( preignited \n",
      "at 550’(Z), tin and iron of low carbon content. \n",
      "4. APPARATUS \n",
      "4.1 The apparatus recommended in IS : 6226 (Part l)-1971t may be \n",
      "11setl \n",
      "4.2 Instead 01‘ the resistance furnace, an induction furnace may also \n",
      "be used. \n",
      "--- \n",
      "*Rules for rounding ofl’ numerical valuer ( mid). \n",
      "tRecommcndation for apparatus for chemical analysis of metals: Put I \n",
      "Determination of carbon by direct combustion. \n",
      "4 IS:228(Part4)-1987 \n",
      "5. SAMPLING \n",
      "5.1 The sample shall be drawn as prescribed in the relevant Indian \n",
      "Standards. \n",
      "5.2 The sample is to be cleaned with analar grade ether and acetone, \n",
      "dried in an air oven at 100 f 5°C. \n",
      "6. PROCEDURE \n",
      "6.1 Assemble the apparatus. Switch on the furnace, if it is a resistance \n",
      "furnace, and allow it to attain a temperature of 1 05O’C (see Note ), all \n",
      "the while passing oxygen through the apparatus so that it bubbles \n",
      "freely at the exit end of the train. Disconnect the absorption bulb, \n",
      "keep in a desiccator till it attains room temperature and take the \n",
      "initial weight. Repeat the operation till a constant weight is \n",
      "obtained. . \n",
      "NOTB - For high chromium and high nickel rteelr, the temperature of 1 250°C \n",
      "in recommended for complete comburtion. \n",
      "6.2 Weigh to the nearest 0’001 g, 2’0 to 3’0 g of the test sample. \n",
      "Transfer to the preignited combustion boat covered at the bottom \n",
      "with a thin layer of calcined alumina. Spread the sample evenly over \n",
      "the top of the alumina and cover it with 2’0 to 3’0 g of the flux. \n",
      "Introduce the boat slowly In the hot zone of the combustion tube. \n",
      "6.3 In the case of induction heating, weigh to the nearest 0’001 g, 0’9 \n",
      "to 1’1 g of the sample and transfer to a preignited crucible. Add an \n",
      "equal quantity of the flux. Place the crucible in Position on the \n",
      "pedestal post of the furnace, raise to the combustion position and \n",
      "lock the system. Pass oxygen through the system and ignite the sample. \n",
      "6.4 Maintain a rapid flow of oxygen ( 800 to 1 000 ml/min) throughout \n",
      "the combustion, then reduce to 400 to 500 ml per min and maintain \n",
      "it for another 6 co 8 min in order to sweep out the carbon dioxide. \n",
      "6.5 Remove the absorption bulb and weigh it after keeping it in \n",
      "desiccator till it attains room temperature. The increase in weight of \n",
      "the bulb represents the carbon dioxide. \n",
      "6.6 Remove the boat or crucible and examine for any incomplete \n",
      "combustion. If the sample is not thoroughly fused, repeat the \n",
      "determination with a fresh sample. \n",
      "6.7 Blank - Charge a prei nited boat or crucible, as the case may be, \n",
      "with the same amount of B ux used in the determination and follow \n",
      "the procedure as in 6.2 to 6.5. \n",
      "5 IS:228(Part4)-1981 \n",
      "7. CALCULATION \n",
      "7.1 Calculate the total carbon content of the sample as follows: \n",
      "Carbon, percent A-B = --x 27’29 c \n",
      "where \n",
      "A = increase in mass in g of the absorption bulb due to \n",
      "carbon dioxide from the sample, \n",
      "B = increase in mass in g of the absorption bulb due to \n",
      "carbon dioxide from the blank determination, and \n",
      "C= mass in g of the sample taken. \n",
      "8. ACCURACY \n",
      "8.1 The accuracy of the method is & 0’01 percent for carbon in the \n",
      "range of 0’1 to 0’75 percent and f 0’02 percent for carbon \n",
      "above 0’75 percent. \n",
      "APPENDIX A \n",
      "( Clause 0.2 ) \n",
      "INDIAN STANDARDS ON METHODS FOR CHEMICAL \n",
      "ANALYSIS OF STEELS \n",
      "IS : 228 Methods for chemical analysis of steels: \n",
      "( Part 1 )-I972 Determination of carbon by volumetric method \n",
      "( for carbon > 0’1 percent ) ( second revision ) \n",
      "( Part 2)-1972 Determination of manganese in plain carbon and \n",
      "low alloy steels by arsenite method ( second revision ) \n",
      "( Part 3 )-1972 Determination of phosphorus by alkalimetric method \n",
      "( second rcvisiorr ) \n",
      "( Part 4 )-1987 Determination of total carbon by gravimetric method \n",
      "( for carbon ) 0’1 percent ) ( third revision ) \n",
      "( Part 5 )-I974 Determination of nickel by dimethyl lyoxime \n",
      "ravimetric ) method ( for nickel > 0’5 percent \n",
      "?!Xon ) s ( second \n",
      "G IS : 228 ( Part 4 ) - 1987 \n",
      "(Part S)-1974 Determination of chromium hy persi!ipha?e \n",
      "oxidation method ( for chromium > 0‘5 percent : I serond \n",
      "rcuision ) \n",
      "( Part 7 )-1974 Determination of molybdenum by a-bcnzoinoxirne \n",
      "method ( for molybdenum > 1 pwccnt ) ( ~vtond rFi/iJiott ) \n",
      "( Part 8)-1975 Determination of silicon by the_ ~ravimetric method \n",
      "( for silicon > 0’ 1 percent ) ( second reutszon ) \n",
      "(Part 9)-1975 Determination of sulphur in plain CW~J(JII steels by \n",
      "evolution met hod (second revirion ) \n",
      "( Parr 10 )-1976 Determination of molybdenum by thiocyannte \n",
      "(photometric) method ( for molybdenum up to 1 perwnt ) \n",
      "in low and high alloy steels ( second reviJir,tl ) \n",
      "( Part 11 )-1976 Determination of silicon by photometric method in \n",
      "carbon steels and low alloy steels ( for silicon 0’01 to 0’05 \n",
      "percent ) ( second relision ) \n",
      "( Part 12 )-I976 Determination Of manganese hy periodate \n",
      "(photometric) method in low and high i\\lloy steels ( for \n",
      "manganese up to 2 percent ) ( second revision ) \n",
      "( Part 13 )-1982 Determination of arsenic \n",
      "7 IS : 228 ( Part 4 ) - 1987 \n",
      "RaprcsraIing \n",
      "Steel Authority of India Ltd (Durgapur Steel \n",
      "Plant ), Durgapur \n",
      "SJIRI P. K. BANEHJEE ( Altrrnafr ) \n",
      "SMHI P. NAI~AIN \n",
      "SHXI G. 11. SIRMA ( Altrrndr ) \n",
      "SJIRI R. S. NATH hahindra Ugine Steel CO Ltd, Bombay \n",
      "Steel Authority of India Ltd (Bokaro Steel \n",
      "Plant ), Rokaro \n",
      "8n1u N. GUNL)APPA ( Altarnatr ) \n",
      "1)~ L. P. PANDEY \n",
      "Sun1 G. Rnnlons \n",
      "SIIHI R. D. VANDRIWALLA \n",
      "SJIRI J. C. DEY ( Afterme ) National Metallurgical Laboratory ( CSIR ), \n",
      "Jamrhedpur _ \n",
      "Visvervarava Iron & Steel Ltd. Bbadravati \n",
      "ltalab Pvt ‘Ltd. Bombay \n",
      "8 BUREAU OF INDIAN STANDARDS \n",
      "Headquarters: \n",
      "Manak Bhavan, 9 Bahadur Shah Zafar Marg, NEW DELHI 110002 \n",
      "Telephones: 323 0131,323 3375,323 9402 \n",
      "Fax : 91 11 3234062, 91 11 3239399, 91 11 3239382 \n",
      "Central Laboratory : \n",
      "Plot No. 20/9, Site IV, Sahibabad Industrial Area, Sahibabad 201010 \n",
      "Regional Offices: Telegrams : Manaksansths \n",
      "(Common to all Offices) \n",
      "Telephone \n",
      "8-77 00 32 \n",
      "Central : Manak Bhavan, 9 Bahadur Shah Zafar Marg, NEW DELHI 110002 32376 17 \n",
      "*Eastern : l/l 4 CIT Scheme VII M, V.I.P. Road, Maniktola, CALCUTTA 700054 337 86 62 \n",
      "Northern : SC0 335336, Sector 34-A, CHANDIGARH 160022 60 38 43 \n",
      "Southern : C.I.T. Campus, IV Cross Road, CHENNAI 600113 235 2315 \n",
      "tWestem : Manakafaya, E9, Behind Marol Telephone Exchange, Andheri (East), 832 92 95 \n",
      "MUMBAI 400093 \n",
      "Branch Offices:: \n",
      "‘Pushpak’, Nurmohamed Shaikh Marg, Khanpur, AHMEDABAD 380001 \n",
      "$Peenya Industrial Area, 1 st Stage, Bangalore-Tumkur Road, \n",
      "BANGALORE 560058 5501348 \n",
      "839 49 55 \n",
      "Gangotri Complex, 5th Floor, Bhadbhada Road, T.T. Nagar, BHOPAL 462003 55 40 21 \n",
      "Plot No. 6263, Unit VI, Ganga Nagar, BHUBANESHWAR 751001 40 36 27 \n",
      "Kalaikathir Buildings, 670 Avinashi Road, COIMBATORE 641037 21 01 41 \n",
      "Plot No. 43, Sector 16 A, Mathura Road, FARIDABAD 121001 8-28 88 01 \n",
      "Savftri Complex, 116 G.T. Road, GHAZIABAD 201001 8-71 1996 \n",
      "53/5 Ward No.29, R.G. Barua Road, 5th By-lane, GUWAHATI 781003 541137 \n",
      "5-8-56C, L.N. Gupta Marg, Nampafly Station Road, HYDERABAD 500001 201083 \n",
      "E-52, Chitaranjan Marg, C- Scheme, JAIPUR 362001 37 29 25 \n",
      "117/418 8, Sarvodaya Nagar, KANPUR 208005 21 68 76 \n",
      "Seth Bhawan, 2nd Floor, Behind Leela Cinema, Naval Kishore Road, 2389 23 \n",
      "LUCKNOW 226001 \n",
      "NIT Building, Second Floor, Gokulpat Market, NAGPUR 440010 52 51 71 \n",
      "Patfiputra Industrial Estate, PATNA 800013 26 23 05 \n",
      "Institution of Engineers (India) Building 1332 Shivaji Nagar, PUNE 411005 32 36 35 \n",
      "T.C. No. 14/l 421, Unhsity P. 0. Palayam, THlRUVANANTH4PURAM 695034 621 17 \n",
      "*Sales office is at 5 Chowringhee Approach, P.O. Princep Street, \n",
      "CALCUTTA 700072 271085 \n",
      "tSales Dfffce is at Novelty Chambers, Grant Road, MUMBAI 400067 \n",
      "$Sales Dffice is at ‘F’ Block, Unity Building, Narashimaraja Square, \n",
      "BANGALORE 560002 3096528 \n",
      "222 39 71 \n",
      "Reprography Unit, BIS, New Delhi, India \n",
      "\n",
      "###question:\n",
      "1. What standard does the text discuss?\n",
      "\n",
      "###answer:\n",
      "IS : 228 (Part 4) - 1987</s>\n",
      "------------------\n"
     ]
    },
    {
     "data": {
      "text/plain": [
       "'<s>###Instruction:\\nbelow context is from 228_4.pdf, answer the folwing questions based on the context given \\n\\n\\n###context:\\nIS:228(Part4)-1987 \\n( ReaIhncd 1997 ) \\nIndian Standard \\nMETHOD FOR \\nCHEMICAL ANALYSIS OF STEELS \\nPART 4 DETERMINATION OF TOTAL CARBON \\nBY GRAVIMETRIC METHOD \\n( FOR CARBON r 0.1 PERCENT) \\n( Third Revision ) \\nI;wflh Reprint NOVEMBER 1998 \\nUDC 669.14 + 669.15-194.2/.3 : 543.21 [546.26] \\nBUREAU OF INDIAN STANDARDS \\nMANAK BHAVAN, 9 BAHADUR SHAH ZAFAR MARG \\nNEW DELHI 110002 \\nGr 2 Aqirst 1987 IS:228(Part4)-1987 \\nIndian Standard \\nMETHODS FOR \\nCHEMICAL ANALYSIS OF STEELS \\nPART 4 DETERMINATION OF TOTAL CARBON \\nBY GRAVIMETRIC METHOD \\n(FOR CARBON > O-1 PERCENT) \\n( Third Revision ) \\nMethods of Chemical Analysis of Ferrous Metals \\nSectional Committee, SlMDC 2 \\nChuiman Rqmsmting \\nDR C. S. P. IYLR Bhabha Atomic Research Centre, Bombay \\nMcmbnr \\nSHKI G. M. APPAUAO Steel Authority of India Ltd ( Bhilai Steel Plant ), \\nBhilai \\nSIIBX R. D. AOAIIWAL ( AllmW) \\nSHEI S. V. BHAOW~Y Khandelwnl Ferro Alloy1 Ltd, Nagpur \\nSanr D. N. GUPTA ( Aflernnlc ) \\nSEttIP. CHAKRA Indian Metals & Ferro Alloys Ltd, Koraput \\nCREYWT& METALLVIWUST \\nAINXVTANT RESEARCH OIFIC~~R Ministry of Transport ( Department of Railways) \\n(MET-2) RDSO, Luclixow \\n( Allrmdr ) \\nCHIEW CIIEM~ST Tata Iron 8; Steel Co Ltd, Jamshedpur \\nAWXSTANT CHIEF CHRMMT ( Allnnat~ ) \\nSIiItI M. K. CEAtiRAVARTY Ministry of Defence (DGI) \\nSnug P. K. SEN ( Altrrnotr ) \\nDR M. M. CEAKRABO~TY Indian Iron & Steel Co Ltd, Burnpur \\nSERB M. S. CEATTERJEE ( Altrrnotr ) \\nSERI C. K. D~KOH~T Ordnance Factory Board ( Ministry of Defence ), \\nCalcutta \\nSARI S. N. MOITRA ( Abn~tr ) \\nSaRI V.B. KIXANXA Directorate General of Supplies & Disposals, \\nNew Delhi \\nSHR~ J. N. MUIWERJEE Steel Authority of India Ltd (Durgapur Steel \\nPlant ). Durgapur \\n( Cen8inurd 8n porr 2 ) \\n0 whr 1987 \\nBUREAU OF INDIAN STANDARDS \\nThis publication is protected -under the Itin clrprighl Act ( XIV of 1957 ) and \\nrrproduction in whole or in part by any means except with written permission of the \\npublisher shall be deemed to be an infringement of copyright under the said Act. IS:228(Part4)-1987 \\nMcmbm Rtpcmting \\nSHRI P. NABAIN \\nSHRI G. R. Saalar ( Altnncfc) Mabindra Ugine Steel Co Ltd. Bombay \\nSHBI N. P. PANDA Steel Autbority of India Ltd (Rourkela Steel \\nPlant ), Rourkela \\nSIIIU B. MAIIAPATRA ( Aftn~h ) \\nDa L. P. PANDEY National Metallurgical Laboratory ( CSIR ), \\nDR D. C. PRASHAR - N p;h-J~r a Pbvsical Laboratorv (CSIR ). \\nNew Delhi’ , . I. \\nSHBI J. RAI ( Al~rraa~ ) \\nSaat G. RAJARAO \\nSHRI K. RAMAKBIIHIAN \\nDa J. RAJARAY ( Allma& ) \\nSBRI A. P. !hNEA Ferro Alloys Cornoration Ltd. Shreeramaagar \\nEurn & Co, Batgalore . \\nSteel Authority of India Ltd ( Bokaro Steel \\nPlant ), Bokaro \\nSHRI N. V. SUEIBAIIA~APPA ’ Vivervnraya Iron 8t Steel Ltd. Bbadravati \\nDB P. S~JBBAHYANIAY Dcfence Metallurgical Rewarcb Laboratory, \\nHvderabad \\nSHBI T. H. RAO (Al&m& ) , \\nDE CR. VENKATLBWARLU Bhabha Atomic Research Centre, Bombay \\nSABI K. RAOHAVENDBAN, Director General, BIS ( Ex-oficio Member) \\nDirector ( Strut St Met ) \\nSlcrrlary \\nSFIBI M. L. SHARJ~A \\nAssirtant Director ( Metalr ), BIS \\nFerrpus Metals Analysis Subcommittee, SMDC 2 : 3 \\ncono#mr \\nDs C. 9. P. IYBR \\nhitathrr \\nSHRI S. BASKABAN Bhabha Atomic Research Centre, Bombay \\nSHBI MATA SARAN ( A&m& I ) Bharat Heavy Electricalr Ltd, Hjderahad \\nSHRI B. RAEA (Alternate II ) \\n!&RI U.P.bJB Steel Authority of India Ltd ( Bhilai Steel Plant ), \\nBbilai \\nSIiRI E. M. VERQHEtlE ( Altmatr ) \\nCHlElP CEEMIRT Tata Iron & Steel Co Ltd. Iamrhednur \\nAIWSTANT CIIIBP CEBYIST ( A&m& ) . \\nDB M. M. CHAKBABORTT Indian Iron & Steel Co Ltd. Burnpur \\nSHRI L. N. Dbs ( Altmmtr ) \\nSEBI H. K. DAE Steel Authority of India Ltd ( hourkela Steel \\nPlant ), Rourkela \\nSHRI K. Bmaror ( Aitrrnats ) \\nSHBI A. K. GIJPTA National Physical \\nNew Delhi Labor&y ( C8IR ), \\n( Cetttirurd on pap 8 ) \\n2 IS : ‘228 ( Part 4 ) - 1987 \\nIndian Standard \\nMETHODS FOR \\nCHEMICAL ANALYSIS OF STEELS \\nPART 4 DETERYlNATlON OF TOTAL CARBON \\nBY GARVIMETRIC METHOD \\n(FOR CARBON > O-1 PERCENT ) \\n( Third Revision ) \\n0. FOREWORD \\n0.1 This Indian Standard ( Part 4 ) (Third R cvision ) was adopted I)y \\nthe Indian Standards Institution on 16 January 1987, afirr the draft \\nfinalized by the Methods of Chemical Analysis of Pcrrous Metals \\nSectional Committre had been approved by the Structural and Mct;~ls \\nDivision Council. \\n0.2 IS : 228, which was issued as a tentative standard in 1952 and \\nrevised in 1959, covered the chemical analysis of pig iron, cast iron and \\nplain carbon and low alloy steels. For the convenience it was decidctl \\nto publish a comprehensive series on chemical analysis of steels \\nincluding high alloy steels. Accordingly, revision of IS : 228 was \\ntaken-up again and new series on method of chemical analysis of \\nsteels including high alloy steels was published in various parts as \\nIS : 228 ( Parts 1 to 13 ) ( see Appendix A ) covering separate method \\nof analysis for each constituent in steels. However, IS : 228-195!)* \\nversion has been rctainc tl for the analysis of pig iron and cast iron till \\na separate standard for analysis of pig iron and cast iron is phlishctl. \\n0.2.1 This revision of IS : 228 (Part 4)-19747 has been undcrtnkcn \\non the basis of experience gained during the implementation of \\\\he \\nstandard by the manufacturers and testing laboratories. \\n0.3 In this revision, method has been updated. \\n*Methods of chemical analysis of pig iron, cast won and plain carb’on and low \\nalloy 1teela [ rruiud )* \\ntMethod1 for chemical analysis of steels: Part 4 Determination of carbon by \\ngravimetric method ( for carbon > 0.1 percent ) (rend rmi~ion ). \\n3 IS : 228 ( Part 4 ) - 1987 \\n8.4 In rr,porting 111~ reslllt of a test or analysis made in accordance \\nr\\\\.itIl tItis 51 ;~ntlartl, if the final value, ohservcd or calculated, is to be \\nI r)~~trcIt~tI 011; it >11;111 Iw clone in accordance with IS : 2-1960*. \\n1. SCOPE \\n1.1 This standard (Part 4) covers the method for determination of \\ntotal carljon content of plain carbon, low alloy and high alloy steels \\nnfO.1 pcrccnt and above by the grnvimctric method. \\n2. OUTLINE OF THE METHOD \\n2.1 The sample is burnt in a stream of purified oxygen and the \\ncarhnn dioxide formctl is al~wrlwtl, after purihation, in suitable \\nahorhant and tlc~tcrminc~cl. \\n3. REAGENTS \\n3.1 Oxygen (On) - 90’5 percent minimum. \\n3.2 Accarite or Soda Lime -- 0’80 to 2’00 mm. \\n3.3 Magnesium Perchlorate - Mg (CIO( )2, 0.80 to 2’00 mm. \\n3.4 Boat/Crucible - Boat/crucible of precise dimension for \\naccommodating in the r&stance and induction furnace. \\n3.4.1 Preignitc the boats/crucibles in air or oxygen in a furnace for \\nan hour at 1 100°C and stnrc in a desiccator and check for consistancy \\nof the blank values. \\n3.5 Flux,‘Accelerator - Low carbon copper, red lead ( preignited \\nat 550’(Z), tin and iron of low carbon content. \\n4. APPARATUS \\n4.1 The apparatus recommended in IS : 6226 (Part l)-1971t may be \\n11setl \\n4.2 Instead 01‘ the resistance furnace, an induction furnace may also \\nbe used. \\n--- \\n*Rules for rounding ofl’ numerical valuer ( mid). \\ntRecommcndation for apparatus for chemical analysis of metals: Put I \\nDetermination of carbon by direct combustion. \\n4 IS:228(Part4)-1987 \\n5. SAMPLING \\n5.1 The sample shall be drawn as prescribed in the relevant Indian \\nStandards. \\n5.2 The sample is to be cleaned with analar grade ether and acetone, \\ndried in an air oven at 100 f 5°C. \\n6. PROCEDURE \\n6.1 Assemble the apparatus. Switch on the furnace, if it is a resistance \\nfurnace, and allow it to attain a temperature of 1 05O’C (see Note ), all \\nthe while passing oxygen through the apparatus so that it bubbles \\nfreely at the exit end of the train. Disconnect the absorption bulb, \\nkeep in a desiccator till it attains room temperature and take the \\ninitial weight. Repeat the operation till a constant weight is \\nobtained. . \\nNOTB - For high chromium and high nickel rteelr, the temperature of 1 250°C \\nin recommended for complete comburtion. \\n6.2 Weigh to the nearest 0’001 g, 2’0 to 3’0 g of the test sample. \\nTransfer to the preignited combustion boat covered at the bottom \\nwith a thin layer of calcined alumina. Spread the sample evenly over \\nthe top of the alumina and cover it with 2’0 to 3’0 g of the flux. \\nIntroduce the boat slowly In the hot zone of the combustion tube. \\n6.3 In the case of induction heating, weigh to the nearest 0’001 g, 0’9 \\nto 1’1 g of the sample and transfer to a preignited crucible. Add an \\nequal quantity of the flux. Place the crucible in Position on the \\npedestal post of the furnace, raise to the combustion position and \\nlock the system. Pass oxygen through the system and ignite the sample. \\n6.4 Maintain a rapid flow of oxygen ( 800 to 1 000 ml/min) throughout \\nthe combustion, then reduce to 400 to 500 ml per min and maintain \\nit for another 6 co 8 min in order to sweep out the carbon dioxide. \\n6.5 Remove the absorption bulb and weigh it after keeping it in \\ndesiccator till it attains room temperature. The increase in weight of \\nthe bulb represents the carbon dioxide. \\n6.6 Remove the boat or crucible and examine for any incomplete \\ncombustion. If the sample is not thoroughly fused, repeat the \\ndetermination with a fresh sample. \\n6.7 Blank - Charge a prei nited boat or crucible, as the case may be, \\nwith the same amount of B ux used in the determination and follow \\nthe procedure as in 6.2 to 6.5. \\n5 IS:228(Part4)-1981 \\n7. CALCULATION \\n7.1 Calculate the total carbon content of the sample as follows: \\nCarbon, percent A-B = --x 27’29 c \\nwhere \\nA = increase in mass in g of the absorption bulb due to \\ncarbon dioxide from the sample, \\nB = increase in mass in g of the absorption bulb due to \\ncarbon dioxide from the blank determination, and \\nC= mass in g of the sample taken. \\n8. ACCURACY \\n8.1 The accuracy of the method is & 0’01 percent for carbon in the \\nrange of 0’1 to 0’75 percent and f 0’02 percent for carbon \\nabove 0’75 percent. \\nAPPENDIX A \\n( Clause 0.2 ) \\nINDIAN STANDARDS ON METHODS FOR CHEMICAL \\nANALYSIS OF STEELS \\nIS : 228 Methods for chemical analysis of steels: \\n( Part 1 )-I972 Determination of carbon by volumetric method \\n( for carbon > 0’1 percent ) ( second revision ) \\n( Part 2)-1972 Determination of manganese in plain carbon and \\nlow alloy steels by arsenite method ( second revision ) \\n( Part 3 )-1972 Determination of phosphorus by alkalimetric method \\n( second rcvisiorr ) \\n( Part 4 )-1987 Determination of total carbon by gravimetric method \\n( for carbon ) 0’1 percent ) ( third revision ) \\n( Part 5 )-I974 Determination of nickel by dimethyl lyoxime \\nravimetric ) method ( for nickel > 0’5 percent \\n?!Xon ) s ( second \\nG IS : 228 ( Part 4 ) - 1987 \\n(Part S)-1974 Determination of chromium hy persi!ipha?e \\noxidation method ( for chromium > 0‘5 percent : I serond \\nrcuision ) \\n( Part 7 )-1974 Determination of molybdenum by a-bcnzoinoxirne \\nmethod ( for molybdenum > 1 pwccnt ) ( ~vtond rFi/iJiott ) \\n( Part 8)-1975 Determination of silicon by the_ ~ravimetric method \\n( for silicon > 0’ 1 percent ) ( second reutszon ) \\n(Part 9)-1975 Determination of sulphur in plain CW~J(JII steels by \\nevolution met hod (second revirion ) \\n( Parr 10 )-1976 Determination of molybdenum by thiocyannte \\n(photometric) method ( for molybdenum up to 1 perwnt ) \\nin low and high alloy steels ( second reviJir,tl ) \\n( Part 11 )-1976 Determination of silicon by photometric method in \\ncarbon steels and low alloy steels ( for silicon 0’01 to 0’05 \\npercent ) ( second relision ) \\n( Part 12 )-I976 Determination Of manganese hy periodate \\n(photometric) method in low and high i\\\\lloy steels ( for \\nmanganese up to 2 percent ) ( second revision ) \\n( Part 13 )-1982 Determination of arsenic \\n7 IS : 228 ( Part 4 ) - 1987 \\nRaprcsraIing \\nSteel Authority of India Ltd (Durgapur Steel \\nPlant ), Durgapur \\nSJIRI P. K. BANEHJEE ( Altrrnafr ) \\nSMHI P. NAI~AIN \\nSHXI G. 11. SIRMA ( Altrrndr ) \\nSJIRI R. S. NATH hahindra Ugine Steel CO Ltd, Bombay \\nSteel Authority of India Ltd (Bokaro Steel \\nPlant ), Rokaro \\n8n1u N. GUNL)APPA ( Altarnatr ) \\n1)~ L. P. PANDEY \\nSun1 G. Rnnlons \\nSIIHI R. D. VANDRIWALLA \\nSJIRI J. C. DEY ( Afterme ) National Metallurgical Laboratory ( CSIR ), \\nJamrhedpur _ \\nVisvervarava Iron & Steel Ltd. Bbadravati \\nltalab Pvt ‘Ltd. Bombay \\n8 BUREAU OF INDIAN STANDARDS \\nHeadquarters: \\nManak Bhavan, 9 Bahadur Shah Zafar Marg, NEW DELHI 110002 \\nTelephones: 323 0131,323 3375,323 9402 \\nFax : 91 11 3234062, 91 11 3239399, 91 11 3239382 \\nCentral Laboratory : \\nPlot No. 20/9, Site IV, Sahibabad Industrial Area, Sahibabad 201010 \\nRegional Offices: Telegrams : Manaksansths \\n(Common to all Offices) \\nTelephone \\n8-77 00 32 \\nCentral : Manak Bhavan, 9 Bahadur Shah Zafar Marg, NEW DELHI 110002 32376 17 \\n*Eastern : l/l 4 CIT Scheme VII M, V.I.P. Road, Maniktola, CALCUTTA 700054 337 86 62 \\nNorthern : SC0 335336, Sector 34-A, CHANDIGARH 160022 60 38 43 \\nSouthern : C.I.T. Campus, IV Cross Road, CHENNAI 600113 235 2315 \\ntWestem : Manakafaya, E9, Behind Marol Telephone Exchange, Andheri (East), 832 92 95 \\nMUMBAI 400093 \\nBranch Offices:: \\n‘Pushpak’, Nurmohamed Shaikh Marg, Khanpur, AHMEDABAD 380001 \\n$Peenya Industrial Area, 1 st Stage, Bangalore-Tumkur Road, \\nBANGALORE 560058 5501348 \\n839 49 55 \\nGangotri Complex, 5th Floor, Bhadbhada Road, T.T. Nagar, BHOPAL 462003 55 40 21 \\nPlot No. 6263, Unit VI, Ganga Nagar, BHUBANESHWAR 751001 40 36 27 \\nKalaikathir Buildings, 670 Avinashi Road, COIMBATORE 641037 21 01 41 \\nPlot No. 43, Sector 16 A, Mathura Road, FARIDABAD 121001 8-28 88 01 \\nSavftri Complex, 116 G.T. Road, GHAZIABAD 201001 8-71 1996 \\n53/5 Ward No.29, R.G. Barua Road, 5th By-lane, GUWAHATI 781003 541137 \\n5-8-56C, L.N. Gupta Marg, Nampafly Station Road, HYDERABAD 500001 201083 \\nE-52, Chitaranjan Marg, C- Scheme, JAIPUR 362001 37 29 25 \\n117/418 8, Sarvodaya Nagar, KANPUR 208005 21 68 76 \\nSeth Bhawan, 2nd Floor, Behind Leela Cinema, Naval Kishore Road, 2389 23 \\nLUCKNOW 226001 \\nNIT Building, Second Floor, Gokulpat Market, NAGPUR 440010 52 51 71 \\nPatfiputra Industrial Estate, PATNA 800013 26 23 05 \\nInstitution of Engineers (India) Building 1332 Shivaji Nagar, PUNE 411005 32 36 35 \\nT.C. No. 14/l 421, Unhsity P. 0. Palayam, THlRUVANANTH4PURAM 695034 621 17 \\n*Sales office is at 5 Chowringhee Approach, P.O. Princep Street, \\nCALCUTTA 700072 271085 \\ntSales Dfffce is at Novelty Chambers, Grant Road, MUMBAI 400067 \\n$Sales Dffice is at ‘F’ Block, Unity Building, Narashimaraja Square, \\nBANGALORE 560002 3096528 \\n222 39 71 \\nReprography Unit, BIS, New Delhi, India \\n\\n###question:\\n1. What standard does the text discuss?\\n\\n###answer:\\nIS : 228 (Part 4) - 1987</s>'"
      ]
     },
     "execution_count": 6,
     "metadata": {},
     "output_type": "execute_result"
    }
   ],
   "source": [
    "create_prompt(dataset[\"train\"][0])\n"
   ]
  },
  {
   "cell_type": "code",
   "execution_count": null,
   "metadata": {},
   "outputs": [],
   "source": [
    "def generate_response(prompt, model):\n",
    "    encoded_input = tokenizer.encode_plus(\n",
    "        prompt,\n",
    "        add_special_tokens=True,\n",
    "        return_tensors=\"pt\"\n",
    "    )\n",
    "    model_inputs = {k: v.to('cuda') for k, v in encoded_input.items() if torch.is_tensor(v)}\n",
    "    generated_ids = model.generate(\n",
    "        input_ids=model_inputs[\"input_ids\"],\n",
    "        attention_mask=model_inputs[\"attention_mask\"],\n",
    "        max_length=50,\n",
    "        num_beams=5,\n",
    "        early_stopping=True,\n",
    "        max_new_tokens=20,  # corrected argument name\n",
    "    )\n",
    "    generated_text = tokenizer.decode(generated_ids[0])\n",
    "    return generated_text\n"
   ]
  },
  {
   "cell_type": "code",
   "execution_count": 7,
   "metadata": {},
   "outputs": [],
   "source": [
    "prompt = \"###Instruction:\\nbelow context is from 228_4.pdf, answer the folwing questions based on the context given \\n\\n\\n###context:\\nIS:228(Part4)-1987 \\n( ReaIhncd 1997 ) \\nIndian Standard \\nMETHOD FOR \\nCHEMICAL ANALYSIS OF STEELS \\nPART 4 DETERMINATION OF TOTAL CARBON \\nBY GRAVIMETRIC METHOD \\n( FOR CARBON r 0.1 PERCENT) \\n( Third Revision ) \\nI;wflh Reprint NOVEMBER 1998 \\nUDC 669.14 + 669.15-194.2/.3 : 543.21 [546.26] \\nBUREAU OF INDIAN STANDARDS \\nMANAK BHAVAN, 9 BAHADUR SHAH ZAFAR MARG \\nNEW DELHI 110002 \\nGr 2 Aqirst 1987 IS:228(Part4)-1987 \\nIndian Standard \\nMETHODS FOR \\nCHEMICAL ANALYSIS OF STEELS \\nPART 4 DETERMINATION OF TOTAL CARBON \\nBY GRAVIMETRIC METHOD \\n(FOR CARBON > O-1 PERCENT) \\n( Third Revision ) \\nMethods of Chemical Analysis of Ferrous Metals \\nSectional Committee, SlMDC 2 \\nChuiman Rqmsmting \\nDR C. S. P. IYLR Bhabha Atomic Research Centre, Bombay \\nMcmbnr \\nSHKI G. M. APPAUAO Steel Authority of India Ltd ( Bhilai Steel Plant ), \\nBhilai \\nSIIBX R. D. AOAIIWAL ( AllmW) \\nSHEI S. V. BHAOW~Y Khandelwnl Ferro Alloy1 Ltd, Nagpur \\nSanr D. N. GUPTA ( Aflernnlc ) \\nSEttIP. CHAKRA Indian Metals & Ferro Alloys Ltd, Koraput \\nCREYWT& METALLVIWUST \\nAINXVTANT RESEARCH OIFIC~~R Ministry of Transport ( Department of Railways) \\n(MET-2) RDSO, Luclixow \\n( Allrmdr ) \\nCHIEW CIIEM~ST Tata Iron 8; Steel Co Ltd, Jamshedpur \\nAWXSTANT CHIEF CHRMMT ( Allnnat~ ) \\nSIiItI M. K. CEAtiRAVARTY Ministry of Defence (DGI) \\nSnug P. K. SEN ( Altrrnotr ) \\nDR M. M. CEAKRABO~TY Indian Iron & Steel Co Ltd, Burnpur \\nSERB M. S. CEATTERJEE ( Altrrnotr ) \\nSERI C. K. D~KOH~T Ordnance Factory Board ( Ministry of Defence ), \\nCalcutta \\nSARI S. N. MOITRA ( Abn~tr ) \\nSaRI V.B. KIXANXA Directorate General of Supplies & Disposals, \\nNew Delhi \\nSHR~ J. N. MUIWERJEE Steel Authority of India Ltd (Durgapur Steel \\nPlant ). Durgapur \\n( Cen8inurd 8n porr 2 ) \\n0 whr 1987 \\nBUREAU OF INDIAN STANDARDS \\nThis publication is protected -under the Itin clrprighl Act ( XIV of 1957 ) and \\nrrproduction in whole or in part by any means except with written permission of the \\npublisher shall be deemed to be an infringement of copyright under the said Act. IS:228(Part4)-1987 \\nMcmbm Rtpcmting \\nSHRI P. NABAIN \\nSHRI G. R. Saalar ( Altnncfc) Mabindra Ugine Steel Co Ltd. Bombay \\nSHBI N. P. PANDA Steel Autbority of India Ltd (Rourkela Steel \\nPlant ), Rourkela \\nSIIIU B. MAIIAPATRA ( Aftn~h ) \\nDa L. P. PANDEY National Metallurgical Laboratory ( CSIR ), \\nDR D. C. PRASHAR - N p;h-J~r a Pbvsical Laboratorv (CSIR ). \\nNew Delhi’ , . I. \\nSHBI J. RAI ( Al~rraa~ ) \\nSaat G. RAJARAO \\nSHRI K. RAMAKBIIHIAN \\nDa J. RAJARAY ( Allma& ) \\nSBRI A. P. !hNEA Ferro Alloys Cornoration Ltd. Shreeramaagar \\nEurn & Co, Batgalore . \\nSteel Authority of India Ltd ( Bokaro Steel \\nPlant ), Bokaro \\nSHRI N. V. SUEIBAIIA~APPA ’ Vivervnraya Iron 8t Steel Ltd. Bbadravati \\nDB P. S~JBBAHYANIAY Dcfence Metallurgical Rewarcb Laboratory, \\nHvderabad \\nSHBI T. H. RAO (Al&m& ) , \\nDE CR. VENKATLBWARLU Bhabha Atomic Research Centre, Bombay \\nSABI K. RAOHAVENDBAN, Director General, BIS ( Ex-oficio Member) \\nDirector ( Strut St Met ) \\nSlcrrlary \\nSFIBI M. L. SHARJ~A \\nAssirtant Director ( Metalr ), BIS \\nFerrpus Metals Analysis Subcommittee, SMDC 2 : 3 \\ncono#mr \\nDs C. 9. P. IYBR \\nhitathrr \\nSHRI S. BASKABAN Bhabha Atomic Research Centre, Bombay \\nSHBI MATA SARAN ( A&m& I ) Bharat Heavy Electricalr Ltd, Hjderahad \\nSHRI B. RAEA (Alternate II ) \\n!&RI U.P.bJB Steel Authority of India Ltd ( Bhilai Steel Plant ), \\nBbilai \\nSIiRI E. M. VERQHEtlE ( Altmatr ) \\nCHlElP CEEMIRT Tata Iron & Steel Co Ltd. Iamrhednur \\nAIWSTANT CIIIBP CEBYIST ( A&m& ) . \\nDB M. M. CHAKBABORTT Indian Iron & Steel Co Ltd. Burnpur \\nSHRI L. N. Dbs ( Altmmtr ) \\nSEBI H. K. DAE Steel Authority of India Ltd ( hourkela Steel \\nPlant ), Rourkela \\nSHRI K. Bmaror ( Aitrrnats ) \\nSHBI A. K. GIJPTA National Physical \\nNew Delhi Labor&y ( C8IR ), \\n( Cetttirurd on pap 8 ) \\n2 IS : ‘228 ( Part 4 ) - 1987 \\nIndian Standard \\nMETHODS FOR \\nCHEMICAL ANALYSIS OF STEELS \\nPART 4 DETERYlNATlON OF TOTAL CARBON \\nBY GARVIMETRIC METHOD \\n(FOR CARBON > O-1 PERCENT ) \\n( Third Revision ) \\n0. FOREWORD \\n0.1 This Indian Standard ( Part 4 ) (Third R cvision ) was adopted I)y \\nthe Indian Standards Institution on 16 January 1987, afirr the draft \\nfinalized by the Methods of Chemical Analysis of Pcrrous Metals \\nSectional Committre had been approved by the Structural and Mct;~ls \\nDivision Council. \\n0.2 IS : 228, which was issued as a tentative standard in 1952 and \\nrevised in 1959, covered the chemical analysis of pig iron, cast iron and \\nplain carbon and low alloy steels. For the convenience it was decidctl \\nto publish a comprehensive series on chemical analysis of steels \\nincluding high alloy steels. Accordingly, revision of IS : 228 was \\ntaken-up again and new series on method of chemical analysis of \\nsteels including high alloy steels was published in various parts as \\nIS : 228 ( Parts 1 to 13 ) ( see Appendix A ) covering separate method \\nof analysis for each constituent in steels. However, IS : 228-195!)* \\nversion has been rctainc tl for the analysis of pig iron and cast iron till \\na separate standard for analysis of pig iron and cast iron is phlishctl. \\n0.2.1 This revision of IS : 228 (Part 4)-19747 has been undcrtnkcn \\non the basis of experience gained during the implementation of \\\\he \\nstandard by the manufacturers and testing laboratories. \\n0.3 In this revision, method has been updated. \\n*Methods of chemical analysis of pig iron, cast won and plain carb’on and low \\nalloy 1teela [ rruiud )* \\ntMethod1 for chemical analysis of steels: Part 4 Determination of carbon by \\ngravimetric method ( for carbon > 0.1 percent ) (rend rmi~ion ). \\n3 IS : 228 ( Part 4 ) - 1987 \\n8.4 In rr,porting 111~ reslllt of a test or analysis made in accordance \\nr\\\\.itIl tItis 51 ;~ntlartl, if the final value, ohservcd or calculated, is to be \\nI r)~~trcIt~tI 011; it >11;111 Iw clone in accordance with IS : 2-1960*. \\n1. SCOPE \\n1.1 This standard (Part 4) covers the method for determination of \\ntotal carljon content of plain carbon, low alloy and high alloy steels \\nnfO.1 pcrccnt and above by the grnvimctric method. \\n2. OUTLINE OF THE METHOD \\n2.1 The sample is burnt in a stream of purified oxygen and the \\ncarhnn dioxide formctl is al~wrlwtl, after purihation, in suitable \\nahorhant and tlc~tcrminc~cl. \\n3. REAGENTS \\n3.1 Oxygen (On) - 90’5 percent minimum. \\n3.2 Accarite or Soda Lime -- 0’80 to 2’00 mm. \\n3.3 Magnesium Perchlorate - Mg (CIO( )2, 0.80 to 2’00 mm. \\n3.4 Boat/Crucible - Boat/crucible of precise dimension for \\naccommodating in the r&stance and induction furnace. \\n3.4.1 Preignitc the boats/crucibles in air or oxygen in a furnace for \\nan hour at 1 100°C and stnrc in a desiccator and check for consistancy \\nof the blank values. \\n3.5 Flux,‘Accelerator - Low carbon copper, red lead ( preignited \\nat 550’(Z), tin and iron of low carbon content. \\n4. APPARATUS \\n4.1 The apparatus recommended in IS : 6226 (Part l)-1971t may be \\n11setl \\n4.2 Instead 01‘ the resistance furnace, an induction furnace may also \\nbe used. \\n--- \\n*Rules for rounding ofl’ numerical valuer ( mid). \\ntRecommcndation for apparatus for chemical analysis of metals: Put I \\nDetermination of carbon by direct combustion. \\n4 IS:228(Part4)-1987 \\n5. SAMPLING \\n5.1 The sample shall be drawn as prescribed in the relevant Indian \\nStandards. \\n5.2 The sample is to be cleaned with analar grade ether and acetone, \\ndried in an air oven at 100 f 5°C. \\n6. PROCEDURE \\n6.1 Assemble the apparatus. Switch on the furnace, if it is a resistance \\nfurnace, and allow it to attain a temperature of 1 05O’C (see Note ), all \\nthe while passing oxygen through the apparatus so that it bubbles \\nfreely at the exit end of the train. Disconnect the absorption bulb, \\nkeep in a desiccator till it attains room temperature and take the \\ninitial weight. Repeat the operation till a constant weight is \\nobtained. . \\nNOTB - For high chromium and high nickel rteelr, the temperature of 1 250°C \\nin recommended for complete comburtion. \\n6.2 Weigh to the nearest 0’001 g, 2’0 to 3’0 g of the test sample. \\nTransfer to the preignited combustion boat covered at the bottom \\nwith a thin layer of calcined alumina. Spread the sample evenly over \\nthe top of the alumina and cover it with 2’0 to 3’0 g of the flux. \\nIntroduce the boat slowly In the hot zone of the combustion tube. \\n6.3 In the case of induction heating, weigh to the nearest 0’001 g, 0’9 \\nto 1’1 g of the sample and transfer to a preignited crucible. Add an \\nequal quantity of the flux. Place the crucible in Position on the \\npedestal post of the furnace, raise to the combustion position and \\nlock the system. Pass oxygen through the system and ignite the sample. \\n6.4 Maintain a rapid flow of oxygen ( 800 to 1 000 ml/min) throughout \\nthe combustion, then reduce to 400 to 500 ml per min and maintain \\nit for another 6 co 8 min in order to sweep out the carbon dioxide. \\n6.5 Remove the absorption bulb and weigh it after keeping it in \\ndesiccator till it attains room temperature. The increase in weight of \\nthe bulb represents the carbon dioxide. \\n6.6 Remove the boat or crucible and examine for any incomplete \\ncombustion. If the sample is not thoroughly fused, repeat the \\ndetermination with a fresh sample. \\n6.7 Blank - Charge a prei nited boat or crucible, as the case may be, \\nwith the same amount of B ux used in the determination and follow \\nthe procedure as in 6.2 to 6.5. \\n5 IS:228(Part4)-1981 \\n7. CALCULATION \\n7.1 Calculate the total carbon content of the sample as follows: \\nCarbon, percent A-B = --x 27’29 c \\nwhere \\nA = increase in mass in g of the absorption bulb due to \\ncarbon dioxide from the sample, \\nB = increase in mass in g of the absorption bulb due to \\ncarbon dioxide from the blank determination, and \\nC= mass in g of the sample taken. \\n8. ACCURACY \\n8.1 The accuracy of the method is & 0’01 percent for carbon in the \\nrange of 0’1 to 0’75 percent and f 0’02 percent for carbon \\nabove 0’75 percent. \\nAPPENDIX A \\n( Clause 0.2 ) \\nINDIAN STANDARDS ON METHODS FOR CHEMICAL \\nANALYSIS OF STEELS \\nIS : 228 Methods for chemical analysis of steels: \\n( Part 1 )-I972 Determination of carbon by volumetric method \\n( for carbon > 0’1 percent ) ( second revision ) \\n( Part 2)-1972 Determination of manganese in plain carbon and \\nlow alloy steels by arsenite method ( second revision ) \\n( Part 3 )-1972 Determination of phosphorus by alkalimetric method \\n( second rcvisiorr ) \\n( Part 4 )-1987 Determination of total carbon by gravimetric method \\n( for carbon ) 0’1 percent ) ( third revision ) \\n( Part 5 )-I974 Determination of nickel by dimethyl lyoxime \\nravimetric ) method ( for nickel > 0’5 percent \\n?!Xon ) s ( second \\nG IS : 228 ( Part 4 ) - 1987 \\n(Part S)-1974 Determination of chromium hy persi!ipha?e \\noxidation method ( for chromium > 0‘5 percent : I serond \\nrcuision ) \\n( Part 7 )-1974 Determination of molybdenum by a-bcnzoinoxirne \\nmethod ( for molybdenum > 1 pwccnt ) ( ~vtond rFi/iJiott ) \\n( Part 8)-1975 Determination of silicon by the_ ~ravimetric method \\n( for silicon > 0’ 1 percent ) ( second reutszon ) \\n(Part 9)-1975 Determination of sulphur in plain CW~J(JII steels by \\nevolution met hod (second revirion ) \\n( Parr 10 )-1976 Determination of molybdenum by thiocyannte \\n(photometric) method ( for molybdenum up to 1 perwnt ) \\nin low and high alloy steels ( second reviJir,tl ) \\n( Part 11 )-1976 Determination of silicon by photometric method in \\ncarbon steels and low alloy steels ( for silicon 0’01 to 0’05 \\npercent ) ( second relision ) \\n( Part 12 )-I976 Determination Of manganese hy periodate \\n(photometric) method in low and high i\\\\lloy steels ( for \\nmanganese up to 2 percent ) ( second revision ) \\n( Part 13 )-1982 Determination of arsenic \\n7 IS : 228 ( Part 4 ) - 1987 \\nRaprcsraIing \\nSteel Authority of India Ltd (Durgapur Steel \\nPlant ), Durgapur \\nSJIRI P. K. BANEHJEE ( Altrrnafr ) \\nSMHI P. NAI~AIN \\nSHXI G. 11. SIRMA ( Altrrndr ) \\nSJIRI R. S. NATH hahindra Ugine Steel CO Ltd, Bombay \\nSteel Authority of India Ltd (Bokaro Steel \\nPlant ), Rokaro \\n8n1u N. GUNL)APPA ( Altarnatr ) \\n1)~ L. P. PANDEY \\nSun1 G. Rnnlons \\nSIIHI R. D. VANDRIWALLA \\nSJIRI J. C. DEY ( Afterme ) National Metallurgical Laboratory ( CSIR ), \\nJamrhedpur _ \\nVisvervarava Iron & Steel Ltd. Bbadravati \\nltalab Pvt ‘Ltd. Bombay \\n8 BUREAU OF INDIAN STANDARDS \\nHeadquarters: \\nManak Bhavan, 9 Bahadur Shah Zafar Marg, NEW DELHI 110002 \\nTelephones: 323 0131,323 3375,323 9402 \\nFax : 91 11 3234062, 91 11 3239399, 91 11 3239382 \\nCentral Laboratory : \\nPlot No. 20/9, Site IV, Sahibabad Industrial Area, Sahibabad 201010 \\nRegional Offices: Telegrams : Manaksansths \\n(Common to all Offices) \\nTelephone \\n8-77 00 32 \\nCentral : Manak Bhavan, 9 Bahadur Shah Zafar Marg, NEW DELHI 110002 32376 17 \\n*Eastern : l/l 4 CIT Scheme VII M, V.I.P. Road, Maniktola, CALCUTTA 700054 337 86 62 \\nNorthern : SC0 335336, Sector 34-A, CHANDIGARH 160022 60 38 43 \\nSouthern : C.I.T. Campus, IV Cross Road, CHENNAI 600113 235 2315 \\ntWestem : Manakafaya, E9, Behind Marol Telephone Exchange, Andheri (East), 832 92 95 \\nMUMBAI 400093 \\nBranch Offices:: \\n‘Pushpak’, Nurmohamed Shaikh Marg, Khanpur, AHMEDABAD 380001 \\n$Peenya Industrial Area, 1 st Stage, Bangalore-Tumkur Road, \\nBANGALORE 560058 5501348 \\n839 49 55 \\nGangotri Complex, 5th Floor, Bhadbhada Road, T.T. Nagar, BHOPAL 462003 55 40 21 \\nPlot No. 6263, Unit VI, Ganga Nagar, BHUBANESHWAR 751001 40 36 27 \\nKalaikathir Buildings, 670 Avinashi Road, COIMBATORE 641037 21 01 41 \\nPlot No. 43, Sector 16 A, Mathura Road, FARIDABAD 121001 8-28 88 01 \\nSavftri Complex, 116 G.T. Road, GHAZIABAD 201001 8-71 1996 \\n53/5 Ward No.29, R.G. Barua Road, 5th By-lane, GUWAHATI 781003 541137 \\n5-8-56C, L.N. Gupta Marg, Nampafly Station Road, HYDERABAD 500001 201083 \\nE-52, Chitaranjan Marg, C- Scheme, JAIPUR 362001 37 29 25 \\n117/418 8, Sarvodaya Nagar, KANPUR 208005 21 68 76 \\nSeth Bhawan, 2nd Floor, Behind Leela Cinema, Naval Kishore Road, 2389 23 \\nLUCKNOW 226001 \\nNIT Building, Second Floor, Gokulpat Market, NAGPUR 440010 52 51 71 \\nPatfiputra Industrial Estate, PATNA 800013 26 23 05 \\nInstitution of Engineers (India) Building 1332 Shivaji Nagar, PUNE 411005 32 36 35 \\nT.C. No. 14/l 421, Unhsity P. 0. Palayam, THlRUVANANTH4PURAM 695034 621 17 \\n*Sales office is at 5 Chowringhee Approach, P.O. Princep Street, \\nCALCUTTA 700072 271085 \\ntSales Dfffce is at Novelty Chambers, Grant Road, MUMBAI 400067 \\n$Sales Dffice is at ‘F’ Block, Unity Building, Narashimaraja Square, \\nBANGALORE 560002 3096528 \\n222 39 71 \\nReprography Unit, BIS, New Delhi, India \\n\\n###question:\\n1. What standard does the text discuss?\\n\\n###answer:\\nIS : 228 (Part 4) - 1987\""
   ]
  },
  {
   "cell_type": "code",
   "execution_count": null,
   "metadata": {},
   "outputs": [],
   "source": [
    "## this actually gives bluff that is not needed\n",
    "generate_response(prompt, model)"
   ]
  },
  {
   "cell_type": "code",
   "execution_count": 8,
   "metadata": {},
   "outputs": [
    {
     "name": "stderr",
     "output_type": "stream",
     "text": [
      "/home/snsrlvm6/.local/lib/python3.8/site-packages/bitsandbytes/cextension.py:34: UserWarning: The installed version of bitsandbytes was compiled without GPU support. 8-bit optimizers, 8-bit multiplication, and GPU quantization are unavailable.\n",
      "  warn(\"The installed version of bitsandbytes was compiled without GPU support. \"\n"
     ]
    },
    {
     "name": "stdout",
     "output_type": "stream",
     "text": [
      "/home/snsrlvm6/.local/lib/python3.8/site-packages/bitsandbytes/libbitsandbytes_cpu.so: undefined symbol: cadam32bit_grad_fp32\n"
     ]
    }
   ],
   "source": [
    "from peft import AutoPeftModelForCausalLM, LoraConfig, get_peft_model, prepare_model_for_kbit_training\n",
    "\n",
    "peft_config = LoraConfig(\n",
    "    lora_alpha=16,\n",
    "    lora_dropout=0.1,\n",
    "    r=64,\n",
    "    bias=\"none\",\n",
    "    task_type=\"CASUAL_LM\"\n",
    ")"
   ]
  },
  {
   "cell_type": "code",
   "execution_count": null,
   "metadata": {},
   "outputs": [],
   "source": [
    "model = prepare_model_for_kbit_training(model)\n",
    "model = get_peft_model(model, peft_config)"
   ]
  },
  {
   "cell_type": "code",
   "execution_count": null,
   "metadata": {},
   "outputs": [],
   "source": [
    "from transformers import TrainingArguments\n",
    "\n",
    "args = TrainingArguments(\n",
    "    output_dir = \"KOKO\",\n",
    "    max_steps = 100,\n",
    "    per_device_train_batch_size = 4,\n",
    "    warmup_steps = 0.03,\n",
    "    logging_steps = 10,\n",
    "    save_strategy = \"epoch\",\n",
    "    evaluation_strategy=\"steps\",\n",
    "    eval_steps=20,\n",
    "    learning_rate=2e-4,\n",
    "    lr_scheduler_type='constant',\n",
    ")"
   ]
  },
  {
   "cell_type": "code",
   "execution_count": null,
   "metadata": {},
   "outputs": [],
   "source": [
    "from trl import SFTTrainer\n",
    "\n",
    "max_seq_length = 2048\n",
    "\n",
    "trainer = SFTTrainer(\n",
    "    model=model,\n",
    "    peft_config = peft_config,\n",
    "    max_seq_length=max_seq_length,\n",
    "    tokenizer = tokenizer,\n",
    "    formatting_func=create_prompt,\n",
    "    packing = True,\n",
    "    args = args,\n",
    "    train_dataset = selected_dataset_dict[\"train\"],\n",
    "    eval_dataset= selected_dataset_dict[\"test\"]\n",
    ")"
   ]
  },
  {
   "cell_type": "code",
   "execution_count": null,
   "metadata": {},
   "outputs": [],
   "source": [
    "trainer.train()"
   ]
  },
  {
   "cell_type": "code",
   "execution_count": null,
   "metadata": {},
   "outputs": [],
   "source": [
    "trainer.save_model(\"KOKO\")"
   ]
  },
  {
   "cell_type": "code",
   "execution_count": null,
   "metadata": {},
   "outputs": [],
   "source": [
    "merged_model = model.merge_and_unload()"
   ]
  },
  {
   "cell_type": "code",
   "execution_count": null,
   "metadata": {},
   "outputs": [],
   "source": [
    "def generate_response(prompt,model):\n",
    "  encoded_input = tokenizer(prompt, return_tensors=\"pt\", add_special_tokens=True)\n",
    "  model_inputs = encoded_input.to('cuda')\n",
    "  generated_ids = model.generate(**model_inputs, max_new_tokens=1000, do_sample=True, pad_token_id = tokenizer.eos_token_id)\n",
    "  decoded_output = tokenizer.batch_decode(generated_ids)\n",
    "  return decoded_output[0]\n",
    "prompt = \"\"\n",
    "generate_response(prompt,model)"
   ]
  }
 ],
 "metadata": {
  "kernelspec": {
   "display_name": "Python 3",
   "language": "python",
   "name": "python3"
  },
  "language_info": {
   "codemirror_mode": {
    "name": "ipython",
    "version": 3
   },
   "file_extension": ".py",
   "mimetype": "text/x-python",
   "name": "python",
   "nbconvert_exporter": "python",
   "pygments_lexer": "ipython3",
   "version": "3.10.12"
  }
 },
 "nbformat": 4,
 "nbformat_minor": 2
}
